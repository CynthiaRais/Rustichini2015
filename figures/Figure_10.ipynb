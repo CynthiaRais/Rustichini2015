{
 "cells": [
  {
   "cell_type": "code",
   "execution_count": null,
   "metadata": {},
   "outputs": [],
   "source": [
    "import dotdot\n",
    "from neuromodel import Model, ReplicatedModel, Offers, run_model\n",
    "import neuromodel.graphs"
   ]
  },
  {
   "cell_type": "markdown",
   "metadata": {},
   "source": [
    "Like all figures in this replication effort, you can either employ the model that replicate the behavior of the Matlab code used to produce the figures in the original article, or the model that contains fixes to make it as close a the description in the original article."
   ]
  },
  {
   "cell_type": "code",
   "execution_count": null,
   "metadata": {},
   "outputs": [],
   "source": [
    "model_class=Model              # use the corrected model that matches the article's description\n",
    "model_class=ReplicatedModel  # use a model that can replicate published figures"
   ]
  },
  {
   "cell_type": "code",
   "execution_count": null,
   "metadata": {},
   "outputs": [],
   "source": [
    "ΔA, ΔB, n = (0, 20), (0, 20), 1500\n",
    "offers = Offers(ΔA=ΔA, ΔB=ΔB, n=n, random_seed=0)\n",
    "\n",
    "J_ampa_rec_in = -0.00198 # 0.9 * J_ampa_rec_in\n",
    "J_nmda_rec_in = -0.000751014 # 0.9 * J_nmda_rec_in\n",
    "J_gaba_rec_in = 0.0144 # 0.8 * J_gaba_rec_in\n",
    "\n",
    "x_offers = ((1, 0), (20, 1), (16, 1), (12, 1), (8, 1), (4, 1), # specific offers for Figures 10K\n",
    "            (1, 4), (1, 8), (1, 12), (1, 16), (1, 20), (0, 1))"
   ]
  },
  {
   "cell_type": "code",
   "execution_count": null,
   "metadata": {},
   "outputs": [],
   "source": [
    "def compute_fig10_data(model_class=model_class, network='symmetric'):\n",
    "    δ_J_stim = {'symmetric':  (1  , 1),\n",
    "                'asymmetric': (1.2, 1)}[network]\n",
    "\n",
    "    model = model_class(n=n, ΔA=ΔA, ΔB=ΔB, random_seed=1,\n",
    "                        r_o=6, w_p=1.65, J_ampa_rec_in=J_ampa_rec_in, \n",
    "                        J_nmda_rec_in=J_nmda_rec_in, J_gaba_rec_in=J_gaba_rec_in,\n",
    "                        δ_J_stim=δ_J_stim)\n",
    "\n",
    "    filename = 'data/fig10_{}[{}]{}.pickle'.format(network, n, model.desc)\n",
    "    return run_model(model, offers, history_keys=('r_ovb', 'r_2', 'r_I'), filename=filename)"
   ]
  },
  {
   "cell_type": "markdown",
   "metadata": {},
   "source": [
    "## Symmetric Model"
   ]
  },
  {
   "cell_type": "code",
   "execution_count": null,
   "metadata": {},
   "outputs": [],
   "source": [
    "analysis_sym = compute_fig10_data(model_class=model_class, network='symmetric')\n",
    "graph_sym = neuromodel.graphs.Graph(analysis_sym)"
   ]
  },
  {
   "cell_type": "code",
   "execution_count": null,
   "metadata": {},
   "outputs": [],
   "source": [
    "data_10A = analysis_sym.means_lowmedhigh_B('r_ovb')\n",
    "figure_10A = graph_sym.means_lowmedhigh(data_10A, title='Figure 10A',\n",
    "                                        y_range=(0, 14), y_ticks=(0, 4, 8, 12))"
   ]
  },
  {
   "cell_type": "code",
   "execution_count": null,
   "metadata": {},
   "outputs": [],
   "source": [
    "data_10B = analysis_sym.means_chosen_choice(key='r_2')\n",
    "figure_10B = graph_sym.means_chosen_choice(data_10B, title='Figure 10B',\n",
    "                                           y_range=(0, 20), y_ticks=(0, 5, 10, 15, 20)) "
   ]
  },
  {
   "cell_type": "code",
   "execution_count": null,
   "metadata": {},
   "outputs": [],
   "source": [
    "data_10C = analysis_sym.tuning_curve('r_2', time_window=(0.5, 1.0))\n",
    "figure_10C = graph_sym.tuning_curve(data_10C, title='Figure 10C')"
   ]
  },
  {
   "cell_type": "code",
   "execution_count": null,
   "metadata": {},
   "outputs": [],
   "source": [
    "data_10D = analysis_sym.means_lowmedhigh_AB('r_I')\n",
    "figure_10D = graph_sym.means_lowmedhigh(data_10D, title='Figure 10D', \n",
    "                                        y_range=(8, 13), y_ticks=(8, 10, 12))"
   ]
  },
  {
   "cell_type": "code",
   "execution_count": null,
   "metadata": {},
   "outputs": [],
   "source": [
    "data_10E = analysis_sym.means_chosen_value('r_I', time_window=(0, 0.5))\n",
    "figure_10E = graph_sym.means_chosen_value(data_10E, title='Figure 10E', \n",
    "                                          y_range=(8, 12), y_ticks=(8, 10, 12))"
   ]
  },
  {
   "cell_type": "code",
   "execution_count": null,
   "metadata": {},
   "outputs": [],
   "source": [
    "data_10F = analysis_sym.data_regression(dim= '2D')\n",
    "Figure_10F = graph_sym.regression_2D(data_10F, title='Figure 10F')"
   ]
  },
  {
   "cell_type": "markdown",
   "metadata": {},
   "source": [
    "## Asymmetric Model"
   ]
  },
  {
   "cell_type": "code",
   "execution_count": null,
   "metadata": {},
   "outputs": [],
   "source": [
    "analysis_asym = compute_fig10_data(model_class=model_class, network='asymmetric')\n",
    "graph_asym = neuromodel.graphs.Graph(analysis_asym)"
   ]
  },
  {
   "cell_type": "code",
   "execution_count": null,
   "metadata": {},
   "outputs": [],
   "source": [
    "data_10G = analysis_asym.means_lowmedhigh_B('r_ovb')\n",
    "figure_10G = graph_asym.means_lowmedhigh(data_10G, title='Figure 10G',\n",
    "                                         y_range=(0, 14), y_ticks=(0, 4, 8, 12))"
   ]
  },
  {
   "cell_type": "code",
   "execution_count": null,
   "metadata": {},
   "outputs": [],
   "source": [
    "data_10H = analysis_asym.means_chosen_choice(key='r_2')\n",
    "figure_10H = graph_asym.means_chosen_choice(data_10H, title='Figure 10H',\n",
    "                                            y_range=(0, 20), y_ticks=(0, 5, 10, 15, 20)) "
   ]
  },
  {
   "cell_type": "code",
   "execution_count": null,
   "metadata": {},
   "outputs": [],
   "source": [
    "data_10I = analysis_asym.tuning_curve('r_2', time_window=(0.5, 1.0))\n",
    "figure_10I = graph_asym.tuning_curve(data_10I, title='Figure 10I')"
   ]
  },
  {
   "cell_type": "code",
   "execution_count": null,
   "metadata": {},
   "outputs": [],
   "source": [
    "data_10J = analysis_asym.means_lowmedhigh_AB('r_I')\n",
    "figure_10J = graph_asym.means_lowmedhigh(data_10J, title='Figure 10J', \n",
    "                                         y_range=(8, 14), y_ticks=(8, 10, 12, 14))"
   ]
  },
  {
   "cell_type": "code",
   "execution_count": null,
   "metadata": {},
   "outputs": [],
   "source": [
    "figure_10K = graph_asym.specific_set(x_offers, analysis_asym.means_offers('r_I', x_offers, time_window=(0.0, 0.5)), \n",
    "                                     analysis_asym.percents('B', x_offers), y_range=(9, 12), title='Figure 10K')"
   ]
  },
  {
   "cell_type": "code",
   "execution_count": null,
   "metadata": {},
   "outputs": [],
   "source": [
    "data_10L = analysis_asym.data_regression(dim= '2D')\n",
    "Figure_10L = graph_asym.regression_2D(data_10L, title='Figure 10L')"
   ]
  },
  {
   "cell_type": "markdown",
   "metadata": {
    "collapsed": true
   },
   "source": [
    " "
   ]
  }
 ],
 "metadata": {
  "kernelspec": {
   "display_name": "Python 3",
   "language": "python",
   "name": "python3"
  },
  "language_info": {
   "codemirror_mode": {
    "name": "ipython",
    "version": 3
   },
   "file_extension": ".py",
   "mimetype": "text/x-python",
   "name": "python",
   "nbconvert_exporter": "python",
   "pygments_lexer": "ipython3",
   "version": "3.6.4"
  }
 },
 "nbformat": 4,
 "nbformat_minor": 2
}
