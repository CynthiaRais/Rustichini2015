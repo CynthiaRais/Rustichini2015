{
 "cells": [
  {
   "cell_type": "markdown",
   "metadata": {},
   "source": [
    "# Figure 7 "
   ]
  },
  {
   "cell_type": "code",
   "execution_count": null,
   "metadata": {},
   "outputs": [],
   "source": [
    "import dotdot\n",
    "from neuromodel import Model, ReplicatedModel, Offers, run_model, load_analysis\n",
    "import neuromodel.graphs\n",
    "\n",
    "%matplotlib notebook"
   ]
  },
  {
   "cell_type": "code",
   "execution_count": null,
   "metadata": {},
   "outputs": [],
   "source": [
    "A_COLOR = (229/255, 146/255, 149/255)\n",
    "B_COLOR = (139/255, 145/255, 193/255)"
   ]
  },
  {
   "cell_type": "markdown",
   "metadata": {},
   "source": [
    "Like all figures in this replication effort, you can either employ the model that replicate the behavior of the Matlab code used to produce the figures in the original article, or the model that contains fixes to make it as close a the description in the original article."
   ]
  },
  {
   "cell_type": "code",
   "execution_count": null,
   "metadata": {},
   "outputs": [],
   "source": [
    "smooth = 'mean'\n",
    "model_class=Model              # use the corrected model that matches the article's description\n",
    "model_class=ReplicatedModel  # use a model that can replicate published figures"
   ]
  },
  {
   "cell_type": "code",
   "execution_count": null,
   "metadata": {},
   "outputs": [],
   "source": [
    "ΔA, ΔB, n = (0, 10), (0, 20), 4000\n",
    "offers = Offers(ΔA=ΔA, ΔB=ΔB, n=n, random_seed=0)"
   ]
  },
  {
   "cell_type": "code",
   "execution_count": null,
   "metadata": {},
   "outputs": [],
   "source": [
    "def compute_fig7_data(model_class=Model, w_p=1.82, hysteresis=True, smooth='mean'):\n",
    "    model = model_class(n=n, ΔA=ΔA, ΔB=ΔB, random_seed=1, w_p=w_p,\n",
    "                        hysteresis=hysteresis)\n",
    "    filename = 'data/fig7_{}[{}]{}.pickle'.format(hysteresis, n, model.desc)\n",
    "    return run_model(model, offers, history_keys=('r_2',), filename=filename, smooth=smooth)"
   ]
  },
  {
   "cell_type": "code",
   "execution_count": null,
   "metadata": {},
   "outputs": [],
   "source": [
    "analysis_7CD = load_analysis('data/fig4[{}]{}.pickle'.format(n, model_class.desc))\n",
    "analysis_7CD.smooth = smooth\n",
    "graph_7CD = neuromodel.graphs.Graph(analysis_7CD)\n",
    "analysis_7EF = compute_fig7_data(model_class)\n",
    "graph_7EF = neuromodel.graphs.Graph(analysis_7EF)"
   ]
  },
  {
   "cell_type": "code",
   "execution_count": null,
   "metadata": {},
   "outputs": [],
   "source": [
    "# CJB firing across time\n",
    "data_7CD = analysis_7CD.choice_hysteresis(key='r_2')\n",
    "figure_7C = graph_7CD.means_previous_choice(data_7CD, title='Figure 7C', y_ticks =(0, 10, 20, 30, 40))"
   ]
  },
  {
   "cell_type": "code",
   "execution_count": null,
   "metadata": {},
   "outputs": [],
   "source": [
    "figure_7C_inset = graph_7CD.means_previous_choice(data_7CD, title='Figure 7C inset', size=200, \n",
    "                      x_range=(-300, 100), x_ticks=(-300, -200, -100, 0, 100), \n",
    "                      y_range=(3, 4.5), y_ticks =(3, 4,))"
   ]
  },
  {
   "cell_type": "code",
   "execution_count": null,
   "metadata": {},
   "outputs": [],
   "source": [
    "# % choice B\n",
    "fig = graph_7CD.regression_3D(analysis_7CD.regression_hysteresis(type='A.'), title='Figure 7D', \n",
    "                              show=False, azim=-61, elev=20, marker='s', point_color=A_COLOR)\n",
    "fig = graph_7CD.regression_3D(analysis_7CD.regression_hysteresis(type='B.'), title='Figure 7D', \n",
    "                              marker='o', point_color=B_COLOR, fig=fig)"
   ]
  },
  {
   "cell_type": "code",
   "execution_count": null,
   "metadata": {},
   "outputs": [],
   "source": [
    "# CJB firing across time\n",
    "data_7EF = analysis_7EF.choice_hysteresis(key='r_2')\n",
    "figure_7E = graph_7EF.means_previous_choice(data_7EF, title='Figure 7E', y_ticks =(0, 10, 20, 30, 40))"
   ]
  },
  {
   "cell_type": "code",
   "execution_count": null,
   "metadata": {},
   "outputs": [],
   "source": [
    "figure_7E_inset = graph_7EF.means_previous_choice(data_7EF, title='Figure 7E inset', size=200, \n",
    "                      x_range=(-300, 100), x_ticks=(-300, -200, -100, 0, 100), \n",
    "                      y_range=(2, 10), y_ticks =(2, 4, 6, 8, 10))"
   ]
  },
  {
   "cell_type": "code",
   "execution_count": null,
   "metadata": {},
   "outputs": [],
   "source": [
    "# % choice B\n",
    "fig = graph_7EF.regression_3D(analysis_7EF.regression_hysteresis(type='A.'), title='Figure 7F', \n",
    "                              show=False, azim=-33, elev=20, marker='s', point_color=A_COLOR)\n",
    "fig = graph_7EF.regression_3D(analysis_7EF.regression_hysteresis(type='B.'), title='Figure 7F', \n",
    "                              marker='o', point_color=B_COLOR, fig=fig)"
   ]
  },
  {
   "cell_type": "markdown",
   "metadata": {},
   "source": [
    " "
   ]
  }
 ],
 "metadata": {
  "kernelspec": {
   "display_name": "Python 3",
   "language": "python",
   "name": "python3"
  },
  "language_info": {
   "codemirror_mode": {
    "name": "ipython",
    "version": 3
   },
   "file_extension": ".py",
   "mimetype": "text/x-python",
   "name": "python",
   "nbconvert_exporter": "python",
   "pygments_lexer": "ipython3",
   "version": "3.6.4"
  }
 },
 "nbformat": 4,
 "nbformat_minor": 2
}
