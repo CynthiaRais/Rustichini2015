{
 "cells": [
  {
   "cell_type": "code",
   "execution_count": null,
   "metadata": {},
   "outputs": [],
   "source": [
    "import dotdot\n",
    "import model\n",
    "import graph\n",
    "import settings\n",
    "import data_analysis\n",
    "import bokeh.plotting\n",
    "%matplotlib notebook"
   ]
  },
  {
   "cell_type": "code",
   "execution_count": null,
   "metadata": {},
   "outputs": [],
   "source": [
    "# Parameters and settings\n",
    "ΔA = 20\n",
    "ΔB = 20\n",
    "w_p=1.65\n",
    "number_of_trials = 4000\n",
    "J_ampa_rec_in = -0.00198  # 0.9 * J_ampa_rec_in\n",
    "J_nmda_rec_in = -0.000751014 # 0.9 * J_nmda_rec_in\n",
    "J_gaba_rec_in = 0.0144 # 0.8 * J_gaba_rec_in\n",
    "δ_J_stim =(1, 1)\n",
    "r_o = 6\n",
    "\n",
    "setting = settings.Presetting(ΔA = ΔA, ΔB = ΔB)\n",
    "quantity_a, quantity_b, x_min_list, x_max_list = setting.quantity_juice()\n",
    "result_one_trial = setting.result_trials()"
   ]
  },
  {
   "cell_type": "code",
   "execution_count": null,
   "metadata": {},
   "outputs": [],
   "source": [
    "m=model.Model(n = number_of_trials, \n",
    "              ΔA            = ΔA, \n",
    "              ΔB            = ΔB, \n",
    "              w_p           = w_p,\n",
    "              r_o           = r_o,\n",
    "              J_ampa_rec_in = J_ampa_rec_in, \n",
    "              J_nmda_rec_in = J_nmda_rec_in, \n",
    "              J_gaba_rec_in = J_gaba_rec_in,\n",
    "              δ_J_stim      = δ_J_stim,\n",
    "              x_min_list    = setting.x_min_list, \n",
    "              x_max_list    = setting.x_max_list)\n",
    "for i in range(number_of_trials):\n",
    "    result_one_trial[(quantity_a[i], quantity_b[i])].append(m.one_trial(x_a = quantity_a[i], x_b = quantity_b[i]))"
   ]
  },
  {
   "cell_type": "code",
   "execution_count": null,
   "metadata": {},
   "outputs": [],
   "source": [
    "analysis = data_analysis.data_analysis_cells(result_one_trial = result_one_trial.copy(), \n",
    "                                             quantity_a = quantity_a, quantity_b = quantity_b)"
   ]
  },
  {
   "cell_type": "code",
   "execution_count": null,
   "metadata": {},
   "outputs": [],
   "source": [
    "g=graph.Graph(ΔA=ΔA, ΔB = ΔB, analysis=analysis)"
   ]
  },
  {
   "cell_type": "code",
   "execution_count": null,
   "metadata": {},
   "outputs": [],
   "source": [
    "figure_10A = g.firing_time_ov(analysis.average_firing_rate_B_ov())"
   ]
  },
  {
   "cell_type": "code",
   "execution_count": null,
   "metadata": {},
   "outputs": [],
   "source": [
    "figure_10B = g.firing_time_cjb(analysis.average_firing_rate_cj())"
   ]
  },
  {
   "cell_type": "code",
   "execution_count": null,
   "metadata": {},
   "outputs": [],
   "source": [
    "figure_10C = g.tuning_curve_cj(analysis.tuning_curve_cjb())"
   ]
  },
  {
   "cell_type": "code",
   "execution_count": null,
   "metadata": {},
   "outputs": [],
   "source": [
    "figure_10D = g.firing_time_cv(analysis.average_firing_rate_cv())"
   ]
  },
  {
   "cell_type": "code",
   "execution_count": null,
   "metadata": {},
   "outputs": [],
   "source": [
    "figure_10E = g.firing_chosen_value(analysis.average_firing_chosen_value())"
   ]
  },
  {
   "cell_type": "code",
   "execution_count": null,
   "metadata": {},
   "outputs": [],
   "source": [
    "import numpy as np\n",
    "figure_10F = bokeh.plotting.figure(title=\"Figure test\", plot_width=300, plot_height=300)\n",
    "figure_10F.line(x = np.arange(-0.5,1, 0.0005), y = result_one_trial[(9,12)][0][0], line_width=2)\n",
    "bokeh.plotting.show(figure_10F)\n",
    "figure_10G = bokeh.plotting.figure(title=\"Figure test\", plot_width=300, plot_height=300)\n",
    "figure_10G.line(x = np.arange(-0.5,1, 0.0005), y = result_one_trial[(9,12)][0][1], line_width=2)\n",
    "bokeh.plotting.show(figure_10G)\n",
    "figure_10H = bokeh.plotting.figure(title=\"Figure test\", plot_width=300, plot_height=300)\n",
    "figure_10H.line(x = np.arange(-0.5,1, 0.0005), y = result_one_trial[(9,12)][0][2], line_width=2)\n",
    "bokeh.plotting.show(figure_10H)\n",
    "figure_10I = bokeh.plotting.figure(title=\"Figure test\", plot_width=300, plot_height=300)\n",
    "figure_10I.line(x = np.arange(-0.5,1, 0.0005), y = result_one_trial[(9,12)][0][4], line_width=2)\n",
    "bokeh.plotting.show(figure_10I)"
   ]
  },
  {
   "cell_type": "code",
   "execution_count": null,
   "metadata": {},
   "outputs": [],
   "source": [
    "# Parameters and settings\n",
    "ΔA = 20\n",
    "ΔB = 20\n",
    "w_p=1.65\n",
    "number_of_trials = 4000\n",
    "J_ampa_rec_in = -0.00198  # 0.9 * J_ampa_rec_in\n",
    "J_nmda_rec_in = -0.000751014 # 0.9 * J_nmda_rec_in\n",
    "J_gaba_rec_in = 0.0144 # 0.8 * J_gaba_rec_in\n",
    "δ_J_stim =(1.2, 1)\n",
    "r_o = 6\n",
    "\n",
    "setting = settings.Presetting(ΔA = ΔA, ΔB = ΔB)\n",
    "setting.quantity_juice()"
   ]
  },
  {
   "cell_type": "code",
   "execution_count": null,
   "metadata": {},
   "outputs": [],
   "source": [
    "m=model.Model(n             = number_of_trials, \n",
    "              ΔA            = ΔA, \n",
    "              ΔB            = ΔB, \n",
    "              w_p           = w_p,\n",
    "              r_o           = r_o,\n",
    "              J_ampa_rec_in = J_ampa_rec_in, \n",
    "              J_nmda_rec_in = J_nmda_rec_in, \n",
    "              J_gaba_rec_in = J_gaba_rec_in,\n",
    "              δ_J_stim      = δ_J_stim, \n",
    "              x_min_list    = setting.x_min_list, \n",
    "              x_max_list    = setting.x_max_list)\n",
    "\n",
    "for i in range(number_of_trials +1):\n",
    "    result_one_trial[(quantity_a[i], quantity_b[i])].append(m.one_trial(x_a = quantity_a[i], x_b = quantity_b[i]))"
   ]
  },
  {
   "cell_type": "code",
   "execution_count": null,
   "metadata": {},
   "outputs": [],
   "source": [
    "analysis = data_analysis.data_analysis_cells(result_one_trial = result_one_trial.copy(), \n",
    "                                             quantity_a = quantity_a, quantity_b = quantity_b)"
   ]
  },
  {
   "cell_type": "code",
   "execution_count": null,
   "metadata": {},
   "outputs": [],
   "source": [
    "g=graph.Graph(ΔA=ΔA, ΔB = ΔB, analysis=analysis)"
   ]
  },
  {
   "cell_type": "code",
   "execution_count": null,
   "metadata": {},
   "outputs": [],
   "source": [
    "figure_10G = g.firing_time_ov(analysis.average_firing_rate_B_ov())"
   ]
  },
  {
   "cell_type": "code",
   "execution_count": null,
   "metadata": {},
   "outputs": [],
   "source": [
    "figure_10H = g.firing_time_cjb(analysis.average_firing_rate_cj())"
   ]
  },
  {
   "cell_type": "code",
   "execution_count": null,
   "metadata": {},
   "outputs": [],
   "source": [
    "figure_10I = g.tuning_curve_cj(analysis.tuning_curve_cjb())"
   ]
  },
  {
   "cell_type": "code",
   "execution_count": null,
   "metadata": {},
   "outputs": [],
   "source": [
    "figure_10J = g.firing_time_cv(analysis.average_firing_rate_cv())"
   ]
  },
  {
   "cell_type": "code",
   "execution_count": null,
   "metadata": {},
   "outputs": [],
   "source": [
    "figure_10K = g.firing_chosen_value(analysis.average_firing_chosen_value())"
   ]
  },
  {
   "cell_type": "code",
   "execution_count": null,
   "metadata": {},
   "outputs": [],
   "source": [
    "figure_10L = "
   ]
  }
 ],
 "metadata": {
  "kernelspec": {
   "display_name": "Python 3",
   "language": "python",
   "name": "python3"
  },
  "language_info": {
   "codemirror_mode": {
    "name": "ipython",
    "version": 3
   },
   "file_extension": ".py",
   "mimetype": "text/x-python",
   "name": "python",
   "nbconvert_exporter": "python",
   "pygments_lexer": "ipython3",
   "version": "3.5.3"
  }
 },
 "nbformat": 4,
 "nbformat_minor": 2
}
