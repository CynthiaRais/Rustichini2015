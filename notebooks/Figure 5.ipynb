{
 "cells": [
  {
   "cell_type": "code",
   "execution_count": null,
   "metadata": {
    "collapsed": true
   },
   "outputs": [],
   "source": [
    "import dotdot\n",
    "import model\n",
    "import graph\n",
    "import settings\n",
    "import data_analysis\n",
    "import bokeh.plotting\n",
    "%matplotlib notebook"
   ]
  },
  {
   "cell_type": "code",
   "execution_count": null,
   "metadata": {
    "collapsed": true
   },
   "outputs": [],
   "source": [
    "#parameters and settings\n",
    "ΔA = 20\n",
    "ΔB = 20\n",
    "w_p=1.75\n",
    "number_of_trials = 4000\n",
    "setting = settings.Presetting(ΔA = ΔA, ΔB = ΔB)\n",
    "setting.quantity_juice()\n",
    "\n"
   ]
  },
  {
   "cell_type": "code",
   "execution_count": null,
   "metadata": {
    "collapsed": true
   },
   "outputs": [],
   "source": [
    "m=model.Model(n = number_of_trials, ΔA = ΔA, ΔB = ΔB, w_p = w_p,\n",
    "              x_min_list = setting.x_min_list, x_max_list = setting.x_max_list)\n",
    "for i in range(number_of_trials +1):\n",
    "    result_one_trial[(quantity_a[i], quantity_b[i])].append(m.one_trial(x_a = quantity_a[i], x_b = quantity_b[i]))\n",
    "m.save.history('data.pickle')"
   ]
  },
  {
   "cell_type": "code",
   "execution_count": null,
   "metadata": {
    "collapsed": true
   },
   "outputs": [],
   "source": [
    "analysis = data_analysis.data_analysis_cells(result_one_trial = m.history)"
   ]
  },
  {
   "cell_type": "code",
   "execution_count": null,
   "metadata": {
    "collapsed": true
   },
   "outputs": [],
   "source": [
    "g=graph.Graph(ΔA=ΔA, ΔB = ΔB, analysis=analysis)"
   ]
  }
 ],
 "metadata": {
  "kernelspec": {
   "display_name": "Python 3",
   "language": "python",
   "name": "python3"
  },
  "language_info": {
   "codemirror_mode": {
    "name": "ipython",
    "version": 3
   },
   "file_extension": ".py",
   "mimetype": "text/x-python",
   "name": "python",
   "nbconvert_exporter": "python",
   "pygments_lexer": "ipython3",
   "version": "3.5.3"
  }
 },
 "nbformat": 4,
 "nbformat_minor": 2
}
