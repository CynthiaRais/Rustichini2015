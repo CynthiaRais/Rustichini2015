{
 "cells": [
  {
   "cell_type": "code",
   "execution_count": null,
   "metadata": {
    "collapsed": true
   },
   "outputs": [],
   "source": [
    "import dotdot\n",
    "from neuromodel import Model, ReplicatedModel, Offers, run_model\n",
    "import neuromodel.graphs\n",
    "\n",
    "#%matplotlib notebook"
   ]
  },
  {
   "cell_type": "code",
   "execution_count": null,
   "metadata": {
    "collapsed": true
   },
   "outputs": [],
   "source": [
    "# set to True if you want to replicate the published figures.\n",
    "# set to False to use the 'corrected' model, as described in the article.\n",
    "replicate = True\n",
    "\n",
    "if replicate:\n",
    "    Model = ReplicatedModel #  replacing the Model class"
   ]
  },
  {
   "cell_type": "code",
   "execution_count": null,
   "metadata": {
    "collapsed": true
   },
   "outputs": [],
   "source": [
    "ΔA, ΔB, n = 20, 20, 1500\n",
    "r_o = 6\n",
    "w_p = 1.65\n",
    "J_ampa_rec_in = -0.00198 # 0.9 * J_ampa_rec_in\n",
    "J_nmda_rec_in = -0.00751014 # 0.9 * J_nmda_rec_in\n",
    "J_gaba_rec_in = 0.0144 # 0.8 * J_gaba_rec_in\n",
    "δ_J_stim = (1, 1)\n",
    "\n",
    "network = \"symmetric\"\n",
    "if network == \"asymmetric\" : δ_J_stim = (1.2, 1)\n",
    "offers = Offers(ΔA=ΔA, ΔB=ΔB, n=n, random_seed=1)\n",
    "\n",
    "x_offers = ((1, 0), (20, 1), (16, 1), (12, 1), (8, 1), (4, 1), # specific offers for Figures 4C, 4G, 4K\n",
    "            (1, 4), (1, 8), (1, 12), (1, 16), (1, 20), (0, 1))"
   ]
  },
  {
   "cell_type": "code",
   "execution_count": null,
   "metadata": {
    "collapsed": true
   },
   "outputs": [],
   "source": [
    "def compute_fig10_data():\n",
    "    model = Model(n=n, ΔA=ΔA, ΔB=ΔB, random_seed=0,\n",
    "                  range_A=offers.range_A, range_B=offers.range_B,\n",
    "                  r_o = r_o,\n",
    "                  w_p = w_p, \n",
    "                  J_ampa_rec_in = J_ampa_rec_in, J_nmda_rec_in = J_nmda_rec_in, J_gaba_rec_in = J_gaba_rec_in,\n",
    "                  δ_J_stim = δ_J_stim)\n",
    "    filename_suffix = '_replicate' if replicate else ''\n",
    "    filename='data/fig10[{}]_{}{}.pickle'.format(n, network, filename_suffix)\n",
    "    return run_model(model, offers, history_keys=('r_ovb', 'r_2', 'r_I'), filename=filename)"
   ]
  },
  {
   "cell_type": "code",
   "execution_count": null,
   "metadata": {
    "collapsed": true
   },
   "outputs": [],
   "source": [
    "analysis = compute_fig10_data()\n",
    "graph = neuromodel.graphs.Graph(analysis, filename_suffix=filename_suffix)"
   ]
  },
  {
   "cell_type": "code",
   "execution_count": null,
   "metadata": {
    "collapsed": true
   },
   "outputs": [],
   "source": [
    "data_10A = analysis.means_lowmedhigh_B('r_ovb')\n",
    "figure_10A = graph.means_lowmedhigh(data_10A, title='Figure 10A',\n",
    "                                   y_range=(0, 14), y_ticks=(0, 4, 8, 12))"
   ]
  },
  {
   "cell_type": "code",
   "execution_count": null,
   "metadata": {
    "collapsed": true
   },
   "outputs": [],
   "source": [
    "data_10B = analysis.means_chosen_choice(key='r_2')\n",
    "figure_10B = graph.means_chosen_choice(data_10B, title='Figure 10B',\n",
    "                                      y_range=(0, 20), y_ticks=(0, 5, 10, 15, 20))"
   ]
  },
  {
   "cell_type": "code",
   "execution_count": null,
   "metadata": {
    "collapsed": true
   },
   "outputs": [],
   "source": [
    "data_10C = analysis.tuning_curve('r_2', time_window=(0.5, 1.0))\n",
    "figure_10C = graph.tuning_curve(data_10C, title='Figure 10C')"
   ]
  },
  {
   "cell_type": "code",
   "execution_count": null,
   "metadata": {
    "collapsed": true
   },
   "outputs": [],
   "source": [
    "data_10D = analysis.means_lowmedhigh_AB('r_I')\n",
    "figure_10D = graph.means_lowmedhigh(data_10D, title='Figure 10D', \n",
    "                                   y_range=(8, 14), y_ticks=(8, 10, 12, 14))"
   ]
  },
  {
   "cell_type": "code",
   "execution_count": null,
   "metadata": {
    "collapsed": true
   },
   "outputs": [],
   "source": [
    "if network == 'symmetric':\n",
    "    data_10E = analysis.means_chosen_value('r_I', time_window=(0, 0.5))\n",
    "    figure_10E = graph.means_chosen_value(data_10E, title='Figure 10E', \n",
    "                                         y_range=(10, 17), y_ticks=(10, 12, 14, 16))\n",
    "elif network == 'asymmetric':\n",
    "    figure_10E = graph.specific_set(x_offers, analysis.means_offers('r_I', x_offers, time_window=(0.0, 0.5)), \n",
    "                               analysis.percents('B', x_offers), y_range=(9, 12), title='Figure 10E')"
   ]
  },
  {
   "cell_type": "code",
   "execution_count": null,
   "metadata": {
    "collapsed": true
   },
   "outputs": [],
   "source": [
    "data_10F = analysis.data_regression(dim= '2D')\n",
    "Figure_10F = graph.regression_2D(data_10F, title='Figure 10F')"
   ]
  },
  {
   "cell_type": "code",
   "execution_count": null,
   "metadata": {
    "collapsed": true
   },
   "outputs": [],
   "source": []
  },
  {
   "cell_type": "code",
   "execution_count": null,
   "metadata": {
    "collapsed": true
   },
   "outputs": [],
   "source": []
  }
 ],
 "metadata": {
  "kernelspec": {
   "display_name": "Python 3",
   "language": "python",
   "name": "python3"
  },
  "language_info": {
   "codemirror_mode": {
    "name": "ipython",
    "version": 3
   },
   "file_extension": ".py",
   "mimetype": "text/x-python",
   "name": "python",
   "nbconvert_exporter": "python",
   "pygments_lexer": "ipython3",
   "version": "3.5.3"
  }
 },
 "nbformat": 4,
 "nbformat_minor": 2
}
