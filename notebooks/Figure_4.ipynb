{
 "cells": [
  {
   "cell_type": "markdown",
   "metadata": {},
   "source": [
    "# Figure 4"
   ]
  },
  {
   "cell_type": "code",
   "execution_count": null,
   "metadata": {},
   "outputs": [],
   "source": [
    "import dotdot\n",
    "from neuromodel import Model, Offers, run_model, Graph\n",
    "\n",
    "#%matplotlib notebook"
   ]
  },
  {
   "cell_type": "code",
   "execution_count": null,
   "metadata": {},
   "outputs": [],
   "source": [
    "ΔA, ΔB, n = 20, 20, 4000\n",
    "offers = Offers(ΔA=ΔA, ΔB=ΔB, n=n, random_seed=1)\n",
    "\n",
    "x_offers = ((1, 0), (20, 1), (16, 1), (12, 1), (8, 1), (4, 1), # specific offers for Figures 4C, 4G, 4K\n",
    "            (1, 4), (1, 8), (1, 12), (1, 16), (1, 20), (0, 1))"
   ]
  },
  {
   "cell_type": "code",
   "execution_count": null,
   "metadata": {},
   "outputs": [],
   "source": [
    "def compute_fig4_data():\n",
    "    model = Model(n=n, ΔA=ΔA, ΔB=ΔB, random_seed=0,\n",
    "                  range_A=offers.range_A, range_B=offers.range_B)\n",
    "\n",
    "    filename='data/fig4[{}].pickle'.format(n)\n",
    "    return run_model(model, offers, history_keys=('r_ovb', 'r_2', 'r_I'), filename=filename)"
   ]
  },
  {
   "cell_type": "code",
   "execution_count": null,
   "metadata": {},
   "outputs": [],
   "source": [
    "analysis = compute_fig4_data()\n",
    "graph = Graph(analysis)"
   ]
  },
  {
   "cell_type": "code",
   "execution_count": null,
   "metadata": {},
   "outputs": [],
   "source": [
    "data_4A = analysis.means_lowmedhigh_B('r_ovb')\n",
    "figure_4A = graph.means_lowmedhigh(data_4A, title='Figure 4A',\n",
    "                                   y_range=(0, 7), y_ticks=(0, 2, 4, 6))"
   ]
  },
  {
   "cell_type": "code",
   "execution_count": null,
   "metadata": {},
   "outputs": [],
   "source": [
    "data_4B = analysis.tuning_curve('r_ovb', time_window=(0, 0.5))\n",
    "figure_4B = graph.tuning_curve(data_4B, title='Figure 4B')"
   ]
  },
  {
   "cell_type": "code",
   "execution_count": null,
   "metadata": {},
   "outputs": [],
   "source": [
    "figure_4C = graph.specific_set(x_offers, analysis.means_offers('r_ovb', x_offers, time_window=(0.0, 0.5)), \n",
    "                               analysis.percents('B', x_offers), y_range=(0, 5), title='Figure 4C')"
   ]
  },
  {
   "cell_type": "code",
   "execution_count": null,
   "metadata": {},
   "outputs": [],
   "source": [
    "figure_4D = graph.firing_offer_B(analysis.tuning_curve('r_ovb', time_window=(0.0, 0.5)))"
   ]
  },
  {
   "cell_type": "code",
   "execution_count": null,
   "metadata": {},
   "outputs": [],
   "source": [
    "data_4E = analysis.means_chosen_choice(key='r_2')\n",
    "figure_4E = graph.means_chosen_choice(data_4E, title='Figure 4E',\n",
    "                                      y_range=(0, 25), y_ticks=(0, 5, 10, 15, 20, 25))"
   ]
  },
  {
   "cell_type": "code",
   "execution_count": null,
   "metadata": {},
   "outputs": [],
   "source": [
    "data_4F = analysis.tuning_curve('r_2', time_window=(0.5, 1.0))\n",
    "figure_4F = graph.tuning_curve(data_4F, title='Figure 4F')"
   ]
  },
  {
   "cell_type": "code",
   "execution_count": null,
   "metadata": {},
   "outputs": [],
   "source": [
    "figure_4G = graph.specific_set(x_offers, analysis.means_offers('r_2', x_offers, time_window=(0.5, 1.0)), \n",
    "                               analysis.percents('B', x_offers), y_range=(0, 16), title='Figure 4G')"
   ]
  },
  {
   "cell_type": "code",
   "execution_count": null,
   "metadata": {},
   "outputs": [],
   "source": [
    "figure_4H = graph.firing_choice(analysis.tuning_curve('r_2', time_window=(0.5, 1.0)))"
   ]
  },
  {
   "cell_type": "code",
   "execution_count": null,
   "metadata": {},
   "outputs": [],
   "source": [
    "data_4I = analysis.means_lowmedhigh_AB('r_I')\n",
    "figure_4I = graph.means_lowmedhigh(data_4I, title='Figure 4I', \n",
    "                                   y_range=(10, 18), y_ticks=(10, 12, 14, 16, 18))"
   ]
  },
  {
   "cell_type": "code",
   "execution_count": null,
   "metadata": {},
   "outputs": [],
   "source": [
    "figure_4J = graph.tuning_curve(analysis.tuning_curve('r_I', time_window=(0.0, 0.5)), title='Figure 4J')"
   ]
  },
  {
   "cell_type": "code",
   "execution_count": null,
   "metadata": {},
   "outputs": [],
   "source": [
    "figure_4K = graph.specific_set(x_offers, analysis.means_offers('r_I', x_offers, time_window=(0.0, 0.5)), \n",
    "                               analysis.percents('B', x_offers), y_range=(10, 17), title='Figure 4I')"
   ]
  },
  {
   "cell_type": "code",
   "execution_count": null,
   "metadata": {},
   "outputs": [],
   "source": [
    "data_4L = analysis.means_chosen_value('r_I', time_window=(0, 0.5))\n",
    "figure_4L = graph.means_chosen_value(data_4L, title='Figure 4L', \n",
    "                                     y_range=(10, 17), y_ticks=(10, 12, 14, 16))"
   ]
  },
  {
   "cell_type": "markdown",
   "metadata": {
    "collapsed": true
   },
   "source": [
    " "
   ]
  }
 ],
 "metadata": {
  "kernelspec": {
   "display_name": "Python 3",
   "language": "python",
   "name": "python3"
  },
  "language_info": {
   "codemirror_mode": {
    "name": "ipython",
    "version": 3
   },
   "file_extension": ".py",
   "mimetype": "text/x-python",
   "name": "python",
   "nbconvert_exporter": "python",
   "pygments_lexer": "ipython3",
   "version": "3.5.2"
  }
 },
 "nbformat": 4,
 "nbformat_minor": 2
}
