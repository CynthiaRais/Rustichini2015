{
 "cells": [
  {
   "cell_type": "code",
   "execution_count": null,
   "metadata": {},
   "outputs": [],
   "source": [
    "import pickle\n",
    "\n",
    "import numpy as np\n",
    "import bokeh.plotting\n",
    "\n",
    "import dotdot\n",
    "from model import Model, DataAnalysis, Offers\n",
    "from model import graphs\n",
    "\n",
    "#%matplotlib notebook\n",
    "np.random.seed(0)"
   ]
  },
  {
   "cell_type": "code",
   "execution_count": null,
   "metadata": {},
   "outputs": [],
   "source": [
    "ΔA, ΔB, n = 20, 20, 1000\n",
    "offers = Offers(ΔA=ΔA, ΔB=ΔB, n=n)\n",
    "\n",
    "x_offers = ((1, 0), (20, 1), (16, 1), (12, 1), (8, 1), (4, 1), # specific offers for Figures 4C, 4G, 4K\n",
    "            (1, 4), (1, 8), (1, 12), (1, 16), (1, 20), (0, 1))"
   ]
  },
  {
   "cell_type": "code",
   "execution_count": null,
   "metadata": {},
   "outputs": [],
   "source": [
    "try:\n",
    "    with open('history1000.pickle', 'rb') as f:\n",
    "        history = pickle.load(f)\n",
    "\n",
    "except FileNotFoundError:\n",
    "\n",
    "    m = Model(n=number_oopf_trials, ΔA=ΔA, ΔB=ΔB,\n",
    "              range_A=offers.range_A, range_B=offers.range_B,\n",
    "              random_seed=1)\n",
    "\n",
    "    for i, (x_A, x_B) in enumerate(offers.offers):\n",
    "        if (i+1) % 10 == 0:\n",
    "            print('step {}'.format(i))\n",
    "        m.one_trial(x_a=x_A, x_b=x_B)\n",
    "\n",
    "    history = m.history\n",
    "    with open('history.pickle', 'wb') as f:\n",
    "         pickle.dump(history, f)\n",
    "\n",
    "analysis = DataAnalysis(history)"
   ]
  },
  {
   "cell_type": "code",
   "execution_count": null,
   "metadata": {},
   "outputs": [],
   "source": [
    "g = graphs.Graph(analysis)"
   ]
  },
  {
   "cell_type": "code",
   "execution_count": null,
   "metadata": {},
   "outputs": [],
   "source": [
    "figure_4A = g.firing_time_ov(analysis.mean_firing_rate_ovb())"
   ]
  },
  {
   "cell_type": "code",
   "execution_count": null,
   "metadata": {},
   "outputs": [],
   "source": [
    "figure_4B = g.tuning_curve_ovb(analysis.tuning_curve_ovb())"
   ]
  },
  {
   "cell_type": "code",
   "execution_count": null,
   "metadata": {},
   "outputs": [],
   "source": [
    "figure_4C = g.firing_specific_set_ovb(x_offers, analysis.mean_firing_time_windows_ovb(x_offers), \n",
    "                                                analysis.percents_B())"
   ]
  },
  {
   "cell_type": "code",
   "execution_count": null,
   "metadata": {},
   "outputs": [],
   "source": [
    "figure_4D = g.firing_offer_B(analysis.tuning_curve_ovb())"
   ]
  },
  {
   "cell_type": "code",
   "execution_count": null,
   "metadata": {},
   "outputs": [],
   "source": [
    "figure_4E = g.firing_time_cjb(analysis.mean_firing_rate_cjb())"
   ]
  },
  {
   "cell_type": "code",
   "execution_count": null,
   "metadata": {},
   "outputs": [],
   "source": [
    "figure_4F = g.tuning_curve_cj(analysis.tuning_curve_cjb())"
   ]
  },
  {
   "cell_type": "code",
   "execution_count": null,
   "metadata": {},
   "outputs": [],
   "source": [
    "figure_4G = g.firing_specific_set_cjb(x_offers, analysis.mean_firing_time_windows_cjb(x_offers), \n",
    "                                                analysis.percents_B())"
   ]
  },
  {
   "cell_type": "code",
   "execution_count": null,
   "metadata": {},
   "outputs": [],
   "source": [
    "figure_4H = g.firing_choice(analysis.tuning_curve_cjb())"
   ]
  },
  {
   "cell_type": "code",
   "execution_count": null,
   "metadata": {},
   "outputs": [],
   "source": [
    "figure_4I = g.firing_time_cv(analysis.mean_firing_rate_cv())"
   ]
  },
  {
   "cell_type": "code",
   "execution_count": null,
   "metadata": {},
   "outputs": [],
   "source": [
    "figure_4J = g.tuning_curve_cv(analysis.tuning_curve_cv())"
   ]
  },
  {
   "cell_type": "code",
   "execution_count": null,
   "metadata": {},
   "outputs": [],
   "source": [
    "figure_4K = g.firing_specific_set_cv(x_offers, analysis.mean_firing_time_windows_cv(x_offers),\n",
    "                                               analysis.percents_B())"
   ]
  },
  {
   "cell_type": "code",
   "execution_count": null,
   "metadata": {},
   "outputs": [],
   "source": [
    "figure_4L = g.firing_chosen_value(analysis.mean_firing_chosen_value())"
   ]
  },
  {
   "cell_type": "markdown",
   "metadata": {
    "collapsed": true
   },
   "source": [
    " "
   ]
  }
 ],
 "metadata": {
  "kernelspec": {
   "display_name": "Python 3",
   "language": "python",
   "name": "python3"
  },
  "language_info": {
   "codemirror_mode": {
    "name": "ipython",
    "version": 3
   },
   "file_extension": ".py",
   "mimetype": "text/x-python",
   "name": "python",
   "nbconvert_exporter": "python",
   "pygments_lexer": "ipython3",
   "version": "3.5.2"
  }
 },
 "nbformat": 4,
 "nbformat_minor": 2
}
