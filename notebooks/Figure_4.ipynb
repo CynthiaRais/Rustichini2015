{
 "cells": [
  {
   "cell_type": "code",
   "execution_count": null,
   "metadata": {},
   "outputs": [],
   "source": [
    "import pickle\n",
    "\n",
    "import numpy as np\n",
    "import bokeh.plotting\n",
    "\n",
    "import dotdot\n",
    "from model import Model, DataAnalysis, settings\n",
    "from model import graphs\n",
    "\n",
    "#%matplotlib notebook\n",
    "np.random.seed(0)"
   ]
  },
  {
   "cell_type": "code",
   "execution_count": null,
   "metadata": {},
   "outputs": [],
   "source": [
    "ΔA = 20\n",
    "ΔB = 20\n",
    "w_p= 1.75\n",
    "number_of_trials = 100\n",
    "setting = settings.Presetting(ΔA = ΔA, ΔB = ΔB)\n",
    "quantity_a, quantity_b, x_min_list, x_max_list = setting.quantity_juice()"
   ]
  },
  {
   "cell_type": "code",
   "execution_count": null,
   "metadata": {},
   "outputs": [],
   "source": [
    "try:\n",
    "    with open('history.pickle', 'rb') as f:\n",
    "        history = pickle.load(f)\n",
    "\n",
    "except FileNotFoundError:\n",
    "    m = Model(n=number_of_trials, ΔA=ΔA, ΔB=ΔB, w_p=w_p,\n",
    "              x_min_list=setting.x_min_list, x_max_list=setting.x_max_list,\n",
    "              random_seed=1)\n",
    "\n",
    "    for i in range(number_of_trials):\n",
    "        if (i+1) % 10 == 0:\n",
    "            print('step {}'.format(i))\n",
    "        m.one_trial(x_a=quantity_a[i], x_b=quantity_b[i])\n",
    "\n",
    "    history = m.history\n",
    "    with open('history.pickle', 'wb') as f:\n",
    "         pickle.dump(history, f)\n",
    "\n",
    "analysis = DataAnalysis(history)"
   ]
  },
  {
   "cell_type": "code",
   "execution_count": null,
   "metadata": {},
   "outputs": [],
   "source": [
    "g = graphs.Graph(ΔA=ΔA, ΔB=ΔB, analysis=analysis)"
   ]
  },
  {
   "cell_type": "code",
   "execution_count": null,
   "metadata": {},
   "outputs": [],
   "source": [
    "figure_4A = g.firing_time_ov(analysis.mean_firing_rate_ovb())"
   ]
  },
  {
   "cell_type": "code",
   "execution_count": null,
   "metadata": {},
   "outputs": [],
   "source": [
    "figure_4B = g.tuning_curve_ovb(analysis.tuning_curve_ovb())"
   ]
  },
  {
   "cell_type": "code",
   "execution_count": null,
   "metadata": {},
   "outputs": [],
   "source": [
    "#figure_4C = g.firing_specific_set_ov(analysis.average_firing_time_windows_ov(), analysis.pourcentage_B())"
   ]
  },
  {
   "cell_type": "code",
   "execution_count": null,
   "metadata": {},
   "outputs": [],
   "source": [
    "figure_4D = g.firing_offer_B(analysis.tuning_curve_ovb())"
   ]
  },
  {
   "cell_type": "code",
   "execution_count": null,
   "metadata": {},
   "outputs": [],
   "source": [
    "figure_4E = g.firing_time_cjb(analysis.mean_firing_rate_cjb())"
   ]
  },
  {
   "cell_type": "code",
   "execution_count": null,
   "metadata": {},
   "outputs": [],
   "source": [
    "figure_4F = g.tuning_curve_cj(analysis.tuning_curve_cjb())"
   ]
  },
  {
   "cell_type": "code",
   "execution_count": null,
   "metadata": {},
   "outputs": [],
   "source": [
    "#figure_4G = g.firing_specific_set_cjb(analysis.average_firing_time_windows_cjb(), analysis.pourcentage_B())"
   ]
  },
  {
   "cell_type": "code",
   "execution_count": null,
   "metadata": {},
   "outputs": [],
   "source": [
    "figure_4H = g.firing_choice(analysis.tuning_curve_cjb())"
   ]
  },
  {
   "cell_type": "code",
   "execution_count": null,
   "metadata": {},
   "outputs": [],
   "source": [
    "figure_4I = g.firing_time_cv(analysis.mean_firing_rate_cv())"
   ]
  },
  {
   "cell_type": "code",
   "execution_count": null,
   "metadata": {},
   "outputs": [],
   "source": [
    "figure_4J = g.tuning_curve_cv(analysis.tuning_curve_cv())"
   ]
  },
  {
   "cell_type": "code",
   "execution_count": null,
   "metadata": {},
   "outputs": [],
   "source": [
    "#figure_4K = g.firing_specific_set_cv(analysis.average_firing_time_windows_cv(), analysis.pourcentage_B())"
   ]
  },
  {
   "cell_type": "code",
   "execution_count": null,
   "metadata": {},
   "outputs": [],
   "source": [
    "figure_4L = g.firing_chosen_value(analysis.mean_firing_chosen_value())"
   ]
  },
  {
   "cell_type": "markdown",
   "metadata": {
    "collapsed": true
   },
   "source": [
    " "
   ]
  }
 ],
 "metadata": {
  "kernelspec": {
   "display_name": "Python 3",
   "language": "python",
   "name": "python3"
  },
  "language_info": {
   "codemirror_mode": {
    "name": "ipython",
    "version": 3
   },
   "file_extension": ".py",
   "mimetype": "text/x-python",
   "name": "python",
   "nbconvert_exporter": "python",
   "pygments_lexer": "ipython3",
   "version": "3.5.2"
  }
 },
 "nbformat": 4,
 "nbformat_minor": 2
}
