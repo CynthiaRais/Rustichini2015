{
 "cells": [
  {
   "cell_type": "markdown",
   "metadata": {},
   "source": [
    "# Figure 5"
   ]
  },
  {
   "cell_type": "code",
   "execution_count": null,
   "metadata": {},
   "outputs": [],
   "source": [
    "import dotdot\n",
    "from neuromodel import Model, ReplicatedModel, Offers, run_model\n",
    "import neuromodel.graphs\n",
    "\n",
    "%matplotlib notebook"
   ]
  },
  {
   "cell_type": "markdown",
   "metadata": {},
   "source": [
    "Like all figures in this replication effort, you can either employ the model that replicate the behavior of the Matlab code used to produce the figures in the original article, or the model that contains fixes to make it as close a the description in the original article."
   ]
  },
  {
   "cell_type": "code",
   "execution_count": null,
   "metadata": {},
   "outputs": [],
   "source": [
    "# set to True if you want to replicate the published figures.\n",
    "# set to False to use the 'corrected' model, as described in the article.\n",
    "replicate = False\n",
    "\n",
    "filename_suffix = ''\n",
    "if replicate:\n",
    "    filename_suffix = '_replicate'\n",
    "    Model = ReplicatedModel #  replacing the Model class"
   ]
  },
  {
   "cell_type": "markdown",
   "metadata": {},
   "source": [
    "Create offers."
   ]
  },
  {
   "cell_type": "code",
   "execution_count": null,
   "metadata": {},
   "outputs": [],
   "source": [
    "ΔA, ΔB, n = 20, 20, 4000\n",
    "offers = Offers(ΔA=ΔA, ΔB=ΔB, n=n, random_seed=0)\n",
    "\n",
    "x_offers = ((1, 0), (20, 1), (16, 1), (12, 1), (8, 1), (4, 1), # specific offers for Figures 4C, 4G, 4K\n",
    "            (1, 4), (1, 8), (1, 12), (1, 16), (1, 20), (0, 1))"
   ]
  },
  {
   "cell_type": "code",
   "execution_count": null,
   "metadata": {},
   "outputs": [],
   "source": [
    "def compute_fig5_data(preference='AMPA'):\n",
    "    \"\"\"Compute the data for Figure 5.\"\"\"\n",
    "    δ_J_stim, δ_J_gaba, δ_J_nmda = (1, 1),  (1, 1, 1), (1, 1)\n",
    "    if preference == 'AMPA':\n",
    "        δ_J_stim = (2, 1)\n",
    "    elif preference == 'NMDA':\n",
    "        δ_J_nmda = (1.05, 1)\n",
    "    elif preference == 'GABA':\n",
    "        δ_J_gaba = (1, 1.02, 1)\n",
    "    else :\n",
    "        raise ValueError('choose a preference')\n",
    "\n",
    "    model = Model(n=n, ΔA=ΔA, ΔB=ΔB, random_seed=1,\n",
    "                  range_A=offers.range_A, range_B=offers.range_B,\n",
    "                  δ_J_stim=δ_J_stim, δ_J_gaba=δ_J_gaba, δ_J_nmda=δ_J_nmda)\n",
    "\n",
    "    filename_suffix = '_replicate' if replicate else ''\n",
    "    filename='data/fig5_{}[{}]{}.pickle'.format(preference, n, filename_suffix)\n",
    "\n",
    "    return run_model(model, offers, history_keys=(), filename=filename)"
   ]
  },
  {
   "cell_type": "code",
   "execution_count": null,
   "metadata": {},
   "outputs": [],
   "source": [
    "analysis_ampa = compute_fig5_data(preference='AMPA')\n",
    "graph_ampa = neuromodel.graphs.Graph(analysis_ampa, filename_suffix)"
   ]
  },
  {
   "cell_type": "code",
   "execution_count": null,
   "metadata": {},
   "outputs": [],
   "source": [
    "graph_ampa.regression_3D(analysis_ampa.data_regression(dim='3D'), title='Figure 5A')"
   ]
  },
  {
   "cell_type": "code",
   "execution_count": null,
   "metadata": {},
   "outputs": [],
   "source": [
    "graph_ampa.regression_2D(analysis_ampa.data_regression(dim='2D'), title='Figure_5B')"
   ]
  },
  {
   "cell_type": "code",
   "execution_count": null,
   "metadata": {},
   "outputs": [],
   "source": [
    "analysis_nmda = compute_fig5_data(preference='NMDA')\n",
    "graph_nmda = neuromodel.graphs.Graph(analysis_nmda, filename_suffix)"
   ]
  },
  {
   "cell_type": "code",
   "execution_count": null,
   "metadata": {},
   "outputs": [],
   "source": [
    "graph_nmda.regression_2D(analysis_nmda.data_regression(dim='2D'), title='Figure 5C')"
   ]
  },
  {
   "cell_type": "code",
   "execution_count": null,
   "metadata": {},
   "outputs": [],
   "source": [
    "analysis_gaba = compute_fig5_data(preference='GABA')\n",
    "graph_gaba = neuromodel.graphs.Graph(analysis_gaba, filename_suffix)"
   ]
  },
  {
   "cell_type": "code",
   "execution_count": null,
   "metadata": {},
   "outputs": [],
   "source": [
    "graph_gaba.regression_2D(analysis_gaba.data_regression(dim='2D'), title='Figure 5D')"
   ]
  },
  {
   "cell_type": "markdown",
   "metadata": {},
   "source": [
    " "
   ]
  }
 ],
 "metadata": {
  "kernelspec": {
   "display_name": "Python 3",
   "language": "python",
   "name": "python3"
  },
  "language_info": {
   "codemirror_mode": {
    "name": "ipython",
    "version": 3
   },
   "file_extension": ".py",
   "mimetype": "text/x-python",
   "name": "python",
   "nbconvert_exporter": "python",
   "pygments_lexer": "ipython3",
   "version": "3.6.1"
  }
 },
 "nbformat": 4,
 "nbformat_minor": 2
}
