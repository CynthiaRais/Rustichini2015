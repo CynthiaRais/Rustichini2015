{
 "cells": [
  {
   "cell_type": "code",
   "execution_count": null,
   "metadata": {},
   "outputs": [],
   "source": [
    "import dotdot\n",
    "from neuromodel import Model, Offers, run_model, Graph\n",
    "import neuromodel.graphs\n",
    "\n",
    "%matplotlib notebook"
   ]
  },
  {
   "cell_type": "code",
   "execution_count": null,
   "metadata": {},
   "outputs": [],
   "source": [
    "ΔA, ΔB, n = 20, 20, 1500\n",
    "\n",
    "preference = 'GABA'# choose where to instore preference among AMPA, GABA or NMDA\n",
    "\n",
    "δ_J_stim = (1, 1)\n",
    "δ_J_gaba = (1, 1, 1)\n",
    "δ_J_nmda = (1, 1)\n",
    "if preference == 'AMPA':\n",
    "    δ_J_stim = (2, 1)\n",
    "elif preference == 'GABA':\n",
    "    δ_J_gaba = (1, 1.02, 1)\n",
    "elif preference == 'NMDA':\n",
    "    δ_J_nmda = (1.05, 1)\n",
    "else :\n",
    "    raise ValueError('choose a preference')\n",
    "    \n",
    "offers = Offers(ΔA=ΔA, ΔB=ΔB, n=n, random_seed=1)\n",
    "\n",
    "x_offers = ((1, 0), (20, 1), (16, 1), (12, 1), (8, 1), (4, 1), # specific offers for Figures 4C, 4G, 4K\n",
    "            (1, 4), (1, 8), (1, 12), (1, 16), (1, 20), (0, 1))"
   ]
  },
  {
   "cell_type": "code",
   "execution_count": null,
   "metadata": {},
   "outputs": [],
   "source": [
    "def compute_fig4_data():\n",
    "    model = Model(n=n, ΔA=ΔA, ΔB=ΔB, random_seed=0,\n",
    "                  range_A=offers.range_A, range_B=offers.range_B,\n",
    "                  δ_J_stim=δ_J_stim, δ_J_gaba=δ_J_gaba, δ_J_nmda=δ_J_nmda)\n",
    "\n",
    "    filename='data/fig5[{}]_{}.pickle'.format(n, preference)\n",
    "    return run_model(model, offers, history_keys=('r_ovb', 'r_2', 'r_I'), filename=filename)"
   ]
  },
  {
   "cell_type": "code",
   "execution_count": null,
   "metadata": {},
   "outputs": [],
   "source": [
    "analysis = compute_fig4_data()\n",
    "graph = Graph(analysis)"
   ]
  },
  {
   "cell_type": "code",
   "execution_count": null,
   "metadata": {},
   "outputs": [],
   "source": [
    "neuromodel.graphs.regression(analysis.data_regression(dim= '3D'), title ='Figure 5')"
   ]
  },
  {
   "cell_type": "code",
   "execution_count": null,
   "metadata": {},
   "outputs": [],
   "source": [
    "data_5B = analysis.data_regression(dim= '2D')\n",
    "Figure_5B = graph.regression_2D(data_5B, title='Figure_5B')"
   ]
  },
  {
   "cell_type": "code",
   "execution_count": null,
   "metadata": {},
   "outputs": [],
   "source": []
  }
 ],
 "metadata": {
  "kernelspec": {
   "display_name": "Python 3",
   "language": "python",
   "name": "python3"
  },
  "language_info": {
   "codemirror_mode": {
    "name": "ipython",
    "version": 3
   },
   "file_extension": ".py",
   "mimetype": "text/x-python",
   "name": "python",
   "nbconvert_exporter": "python",
   "pygments_lexer": "ipython3",
   "version": "3.5.3"
  }
 },
 "nbformat": 4,
 "nbformat_minor": 2
}
