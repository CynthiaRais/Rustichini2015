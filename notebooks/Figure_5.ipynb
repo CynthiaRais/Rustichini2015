{
 "cells": [
  {
   "cell_type": "markdown",
   "metadata": {},
   "source": [
    "# Figure 5"
   ]
  },
  {
   "cell_type": "code",
   "execution_count": null,
   "metadata": {},
   "outputs": [],
   "source": [
    "import dotdot\n",
    "from neuromodel import Model, ReplicatedModel, Offers, run_model\n",
    "import neuromodel.graphs\n",
    "\n",
    "%matplotlib notebook"
   ]
  },
  {
   "cell_type": "markdown",
   "metadata": {},
   "source": [
    "Like all figures in this replication effort, you can either employ the model that replicate the behavior of the Matlab code used to produce the figures in the original article, or the model that contains fixes to make it as close a the description in the original article."
   ]
  },
  {
   "cell_type": "code",
   "execution_count": null,
   "metadata": {},
   "outputs": [],
   "source": [
    "model_class=Model              # use the corrected model that matches the article's description\n",
    "# model_class=ReplicatedModel  # use a model that can replicate published figures"
   ]
  },
  {
   "cell_type": "markdown",
   "metadata": {},
   "source": [
    "Create offers."
   ]
  },
  {
   "cell_type": "code",
   "execution_count": null,
   "metadata": {},
   "outputs": [],
   "source": [
    "ΔA, ΔB, n = (0, 20), (0, 20), 4000\n",
    "offers = Offers(ΔA=ΔA, ΔB=ΔB, n=n, random_seed=0)\n",
    "\n",
    "x_offers = ((1, 0), (20, 1), (16, 1), (12, 1), (8, 1), (4, 1), # specific offers for Figures 4C, 4G, 4K\n",
    "            (1, 4), (1, 8), (1, 12), (1, 16), (1, 20), (0, 1))"
   ]
  },
  {
   "cell_type": "code",
   "execution_count": null,
   "metadata": {},
   "outputs": [],
   "source": [
    "def compute_fig5_data(model_class=Model, δ_J_stim=(1, 1),\n",
    "                      δ_J_nmda=(1, 1), δ_J_gaba=(1, 1, 1), desc=''):\n",
    "    \"\"\"Compute tshe data for Figure 5.\"\"\"\n",
    "    model = model_class(n=n, ΔA=ΔA, ΔB=ΔB, random_seed=1,\n",
    "                        δ_J_stim=δ_J_stim, δ_J_gaba=δ_J_gaba, δ_J_nmda=δ_J_nmda)\n",
    "\n",
    "    filename = 'data/fig5_{}[{}]{}.pickle'.format(desc, n, model.desc)\n",
    "    return run_model(model, offers, history_keys=(), filename=filename)"
   ]
  },
  {
   "cell_type": "code",
   "execution_count": null,
   "metadata": {},
   "outputs": [],
   "source": [
    "analysis_ampa = compute_fig5_data(model_class=Model, δ_J_stim=(2, 1), desc='AMPA')\n",
    "graph_ampa = neuromodel.graphs.Graph(analysis_ampa)"
   ]
  },
  {
   "cell_type": "code",
   "execution_count": null,
   "metadata": {},
   "outputs": [],
   "source": [
    "graph_ampa.regression_3D(analysis_ampa.data_regression(dim='3D'), title='Figure 5A')"
   ]
  },
  {
   "cell_type": "code",
   "execution_count": null,
   "metadata": {},
   "outputs": [],
   "source": [
    "graph_ampa.regression_2D(analysis_ampa.data_regression(dim='2D'), title='Figure_5B')"
   ]
  },
  {
   "cell_type": "code",
   "execution_count": null,
   "metadata": {},
   "outputs": [],
   "source": [
    "analysis_nmda = compute_fig5_data(model_class=Model, δ_J_nmda=(1.05, 1), desc='NMDA')\n",
    "graph_nmda = neuromodel.graphs.Graph(analysis_nmda)"
   ]
  },
  {
   "cell_type": "code",
   "execution_count": null,
   "metadata": {},
   "outputs": [],
   "source": [
    "graph_nmda.regression_2D(analysis_nmda.data_regression(dim='2D'), title='Figure 5C')"
   ]
  },
  {
   "cell_type": "code",
   "execution_count": null,
   "metadata": {},
   "outputs": [],
   "source": [
    "analysis_gaba = compute_fig5_data(model_class=Model, δ_J_gaba=(1, 1.02, 1), desc='GABA')\n",
    "graph_gaba = neuromodel.graphs.Graph(analysis_gaba)"
   ]
  },
  {
   "cell_type": "code",
   "execution_count": null,
   "metadata": {},
   "outputs": [],
   "source": [
    "graph_gaba.regression_2D(analysis_gaba.data_regression(dim='2D'), title='Figure 5D')"
   ]
  },
  {
   "cell_type": "markdown",
   "metadata": {},
   "source": [
    " "
   ]
  }
 ],
 "metadata": {
  "kernelspec": {
   "display_name": "Python 3",
   "language": "python",
   "name": "python3"
  },
  "language_info": {
   "codemirror_mode": {
    "name": "ipython",
    "version": 3
   },
   "file_extension": ".py",
   "mimetype": "text/x-python",
   "name": "python",
   "nbconvert_exporter": "python",
   "pygments_lexer": "ipython3",
   "version": "3.6.4"
  }
 },
 "nbformat": 4,
 "nbformat_minor": 2
}
