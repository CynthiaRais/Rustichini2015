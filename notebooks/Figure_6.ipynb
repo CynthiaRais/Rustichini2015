{
 "cells": [
  {
   "cell_type": "markdown",
   "metadata": {},
   "source": [
    "# Figure 6"
   ]
  },
  {
   "cell_type": "code",
   "execution_count": null,
   "metadata": {},
   "outputs": [],
   "source": [
    "import dotdot\n",
    "from neuromodel import Offers, Model, ReplicatedModel, run_model\n",
    "import neuromodel.graphs \n",
    "\n",
    "#%matplotlib notebook"
   ]
  },
  {
   "cell_type": "markdown",
   "metadata": {},
   "source": [
    "Like all figures in this replication effort, you can either employ the model that replicate the behavior of the Matlab code used to produce the figures in the original article, or the model that contains fixes to make it as close a the description in the original article."
   ]
  },
  {
   "cell_type": "code",
   "execution_count": null,
   "metadata": {},
   "outputs": [],
   "source": [
    "model_class=Model              # use the corrected model that matches the article's description\n",
    "# model_class=ReplicatedModel  # use a model that can replicate published figures"
   ]
  },
  {
   "cell_type": "code",
   "execution_count": null,
   "metadata": {},
   "outputs": [],
   "source": [
    "ΔA, ΔB, n = (0, 20), (0, 20), 4000\n",
    "offers = Offers(ΔA=ΔA, ΔB=ΔB, n=n, random_seed=0)"
   ]
  },
  {
   "cell_type": "code",
   "execution_count": null,
   "metadata": {},
   "outputs": [],
   "source": [
    "def compute_fig6_data(w_p):\n",
    "    model = Model(n=n, ΔA=ΔA, ΔB=ΔB, random_seed=1, w_p=w_p)\n",
    "\n",
    "    filename = 'data/fig6_{}[{}]{}.pickle'.format(w_p, n, model.desc)\n",
    "    return run_model(model, offers, history_keys=('r_2', 'r_I'), filename=filename)"
   ]
  },
  {
   "cell_type": "markdown",
   "metadata": {},
   "source": [
    "## w+ = 1.55"
   ]
  },
  {
   "cell_type": "code",
   "execution_count": null,
   "metadata": {},
   "outputs": [],
   "source": [
    "analysis_1_55 = compute_fig6_data(1.55)\n",
    "graph_1_55 = neuromodel.graphs.Graph(analysis_1_55)"
   ]
  },
  {
   "cell_type": "code",
   "execution_count": null,
   "metadata": {},
   "outputs": [],
   "source": [
    "data_6A = analysis_1_55.means_chosen_choice(key='r_2')\n",
    "figure_6A = graph_1_55.means_chosen_choice(data_6A, title='Figure 6A',\n",
    "                                           y_range=(2, 16), y_ticks=(3, 6, 9, 12, 15))"
   ]
  },
  {
   "cell_type": "code",
   "execution_count": null,
   "metadata": {},
   "outputs": [],
   "source": [
    "data_6B = analysis_1_55.tuning_curve('r_2', (0.5, 1.0))\n",
    "figure_6B = graph_1_55.tuning_curve(data_6B, title='Figure 6B')"
   ]
  },
  {
   "cell_type": "code",
   "execution_count": null,
   "metadata": {},
   "outputs": [],
   "source": [
    "data_6C = analysis_1_55.means_lowmedhigh_AB('r_I')\n",
    "figure_6C = graph_1_55.means_lowmedhigh(data_6C, title='Figure 6C',\n",
    "                                        y_range=(10, 17), y_ticks=(10, 12, 14, 16))"
   ]
  },
  {
   "cell_type": "code",
   "execution_count": null,
   "metadata": {},
   "outputs": [],
   "source": [
    "data_6D = analysis_1_55.means_chosen_value('r_I', time_window=(0, 0.5))\n",
    "figure_6D = graph_1_55.means_chosen_value(data_6D, title='Figure 6D', \n",
    "                                          y_range=(10, 16), y_ticks=(10, 12, 14, 16))"
   ]
  },
  {
   "cell_type": "markdown",
   "metadata": {},
   "source": [
    "## w+ = 1.70"
   ]
  },
  {
   "cell_type": "code",
   "execution_count": null,
   "metadata": {},
   "outputs": [],
   "source": [
    "analysis_1_70 = compute_fig6_data(1.70)\n",
    "graph_1_70 = neuromodel.graphs.Graph(analysis_1_70)"
   ]
  },
  {
   "cell_type": "code",
   "execution_count": null,
   "metadata": {},
   "outputs": [],
   "source": [
    "data_6E = analysis_1_70.means_chosen_choice(key='r_2')\n",
    "figure_6E = graph_1_70.means_chosen_choice(data_6E, title='Figure 6E',\n",
    "                                           y_range=(0, 23), y_ticks=(0, 5, 10, 15, 20))"
   ]
  },
  {
   "cell_type": "code",
   "execution_count": null,
   "metadata": {},
   "outputs": [],
   "source": [
    "data_6F = analysis_1_70.tuning_curve('r_2', (0.5, 1.0))\n",
    "figure_6F = graph_1_70.tuning_curve(data_6F, title='Figure 6F')"
   ]
  },
  {
   "cell_type": "code",
   "execution_count": null,
   "metadata": {},
   "outputs": [],
   "source": [
    "data_6G = analysis_1_55.means_lowmedhigh_AB('r_I')\n",
    "figure_6G = graph_1_55.means_lowmedhigh(data_6G, title='Figure 6G',\n",
    "                                        y_range=(10, 18), y_ticks=(10, 12, 14, 16, 18))"
   ]
  },
  {
   "cell_type": "code",
   "execution_count": null,
   "metadata": {},
   "outputs": [],
   "source": [
    "data_6H = analysis_1_70.means_chosen_value('r_I', time_window=(0, 0.5))\n",
    "figure_6H = graph_1_70.means_chosen_value(data_6H, title='Figure 6H', \n",
    "                                          y_range=(10, 16.5), y_ticks=(10, 12, 14, 16))"
   ]
  },
  {
   "cell_type": "markdown",
   "metadata": {},
   "source": [
    "## w+ = 1.85"
   ]
  },
  {
   "cell_type": "code",
   "execution_count": null,
   "metadata": {},
   "outputs": [],
   "source": [
    "analysis_1_85 = compute_fig6_data(1.85)\n",
    "graph_1_85 = neuromodel.graphs.Graph(analysis_1_85)"
   ]
  },
  {
   "cell_type": "code",
   "execution_count": null,
   "metadata": {},
   "outputs": [],
   "source": [
    "data_6I = analysis_1_85.means_chosen_choice(key='r_2')\n",
    "figure_6I = graph_1_85.means_chosen_choice(data_6I, title='Figure 6I',\n",
    "                                           y_range=(0, 35), y_ticks=(0, 10, 20, 30))"
   ]
  },
  {
   "cell_type": "code",
   "execution_count": null,
   "metadata": {},
   "outputs": [],
   "source": [
    "data_6J = analysis_1_85.tuning_curve('r_2', (0.5, 1.0))\n",
    "figure_6J = graph_1_85.tuning_curve(data_6J, title='Figure 6J')"
   ]
  },
  {
   "cell_type": "code",
   "execution_count": null,
   "metadata": {},
   "outputs": [],
   "source": [
    "data_6K = analysis_1_85.means_lowmedhigh_AB('r_I')\n",
    "figure_6K = graph_1_85.means_lowmedhigh(data_6K, title='Figure 6K',\n",
    "                                        y_range=(10, 19), y_ticks=(10, 12, 14, 16, 18))"
   ]
  },
  {
   "cell_type": "code",
   "execution_count": null,
   "metadata": {},
   "outputs": [],
   "source": [
    "data_6L = analysis_1_85.means_chosen_value('r_I', time_window=(0, 0.5))\n",
    "figure_6L = graph_1_85.means_chosen_value(data_6L, title='Figure 6L', \n",
    "                                          y_range=(10, 17), y_ticks=(10, 12, 14, 16))"
   ]
  },
  {
   "cell_type": "markdown",
   "metadata": {},
   "source": [
    " "
   ]
  }
 ],
 "metadata": {
  "kernelspec": {
   "display_name": "Python 3",
   "language": "python",
   "name": "python3"
  },
  "language_info": {
   "codemirror_mode": {
    "name": "ipython",
    "version": 3
   },
   "file_extension": ".py",
   "mimetype": "text/x-python",
   "name": "python",
   "nbconvert_exporter": "python",
   "pygments_lexer": "ipython3",
   "version": "3.6.4"
  }
 },
 "nbformat": 4,
 "nbformat_minor": 2
}
