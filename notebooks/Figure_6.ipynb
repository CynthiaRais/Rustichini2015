{
 "cells": [
  {
   "cell_type": "code",
   "execution_count": null,
   "metadata": {},
   "outputs": [],
   "source": [
    "import pickle\n",
    "\n",
    "import numpy as np\n",
    "import bokeh.plotting\n",
    "\n",
    "import dotdot\n",
    "from model import Model, History, DataAnalysis, Offers\n",
    "from model import graphs\n",
    "\n",
    "#%matplotlib notebook\n",
    "np.random.seed(0)"
   ]
  },
  {
   "cell_type": "code",
   "execution_count": null,
   "metadata": {},
   "outputs": [],
   "source": [
    "ΔA, ΔB, n = 20, 20, 500\n",
    "offers = Offers(ΔA=ΔA, ΔB=ΔB, n=n)"
   ]
  },
  {
   "cell_type": "code",
   "execution_count": null,
   "metadata": {},
   "outputs": [],
   "source": [
    "w_p = 1.55\n",
    "try:\n",
    "    with open('analysis_fig6_{}.pickle'.format(w_p), 'rb') as f:\n",
    "        analysis = pickle.load(f)\n",
    "\n",
    "except FileNotFoundError:\n",
    "\n",
    "    m = Model(n=n, ΔA=ΔA, ΔB=ΔB, w_p=w_p,\n",
    "              range_A=offers.range_A, range_B=offers.range_B,\n",
    "              random_seed=1)\n",
    "    m.history = History(m, keys=('r_2', 'r_I'))\n",
    "    \n",
    "    for i, (x_A, x_B) in enumerate(offers.offers):\n",
    "        if (i + 1) % 50 == 0:\n",
    "            print('step {}'.format(i + 1))\n",
    "        m.one_trial(x_a=x_A, x_b=x_B)\n",
    "\n",
    "    analysis = DataAnalysis(m.history)\n",
    "    m.history.clear()\n",
    "    m.trial_history = None\n",
    "    with open('analysis_fig6_{}.pickle'.format(w_p), 'wb') as f:\n",
    "         pickle.dump(analysis, f)"
   ]
  },
  {
   "cell_type": "code",
   "execution_count": null,
   "metadata": {},
   "outputs": [],
   "source": [
    "g = graphs.Graph(analysis)"
   ]
  },
  {
   "cell_type": "code",
   "execution_count": null,
   "metadata": {},
   "outputs": [],
   "source": [
    "figure_6A = g.firing_time_cjb(analysis.mean_firing_rate_cjb())"
   ]
  },
  {
   "cell_type": "code",
   "execution_count": null,
   "metadata": {},
   "outputs": [],
   "source": [
    "figure_6B = g.tuning_curve_cj(analysis.tuning_curve_cjb())"
   ]
  },
  {
   "cell_type": "code",
   "execution_count": null,
   "metadata": {},
   "outputs": [],
   "source": [
    "figure_6C = g.firing_time_cv(analysis.average_firing_rate_cv())"
   ]
  },
  {
   "cell_type": "code",
   "execution_count": null,
   "metadata": {},
   "outputs": [],
   "source": [
    "figure_6D = g.firing_chosen_value(analysis.average_firing_chosen_value())"
   ]
  },
  {
   "cell_type": "code",
   "execution_count": null,
   "metadata": {},
   "outputs": [],
   "source": [
    "# Parameters and settings\n",
    "w_p=1.70\n",
    "number_of_trials = 4000\n",
    "setting = settings.Presetting(ΔA = ΔA, ΔB = ΔB)\n",
    "setting.quantity_juice()"
   ]
  },
  {
   "cell_type": "code",
   "execution_count": null,
   "metadata": {},
   "outputs": [],
   "source": [
    "m=model.Model(n = number_of_trials, \n",
    "              ΔA         = ΔA, \n",
    "              ΔB         = ΔB, \n",
    "              w_p        = w_p,\n",
    "              x_min_list = setting.x_min_list, \n",
    "              x_max_list = setting.x_max_list)\n",
    "\n",
    "for i in range(number_of_trials +1):\n",
    "    result_one_trial[(quantity_a[i], quantity_b[i])].append(m.one_trial(x_a = quantity_a[i], x_b = quantity_b[i]))"
   ]
  },
  {
   "cell_type": "code",
   "execution_count": null,
   "metadata": {},
   "outputs": [],
   "source": [
    "analysis = data_analysis.data_analysis_cells(result_one_trial = result_one_trial.copy(), \n",
    "                                             quantity_a = quantity_a, quantity_b = quantity_b)"
   ]
  },
  {
   "cell_type": "code",
   "execution_count": null,
   "metadata": {},
   "outputs": [],
   "source": [
    "g=graph.Graph(ΔA       = ΔA, \n",
    "              ΔB       = ΔB, \n",
    "              analysis = analysis)"
   ]
  },
  {
   "cell_type": "code",
   "execution_count": null,
   "metadata": {},
   "outputs": [],
   "source": [
    "figure_6E = g.firing_time_cjb(analysis.average_firing_rate_cj())"
   ]
  },
  {
   "cell_type": "code",
   "execution_count": null,
   "metadata": {},
   "outputs": [],
   "source": [
    "figure_6F = g.tuning_curve_cj(analysis.tuning_curve_cjb())"
   ]
  },
  {
   "cell_type": "code",
   "execution_count": null,
   "metadata": {},
   "outputs": [],
   "source": [
    "figure_6G = g.firing_time_cv(analysis.average_firing_rate_cv())"
   ]
  },
  {
   "cell_type": "code",
   "execution_count": null,
   "metadata": {},
   "outputs": [],
   "source": [
    "figure_6H = "
   ]
  },
  {
   "cell_type": "code",
   "execution_count": null,
   "metadata": {},
   "outputs": [],
   "source": [
    "# Parameters and settings\n",
    "w_p=1.85\n",
    "number_of_trials = 4000\n",
    "setting = settings.Presetting(ΔA = ΔA, ΔB = ΔB)\n",
    "setting.quantity_juice()"
   ]
  },
  {
   "cell_type": "code",
   "execution_count": null,
   "metadata": {},
   "outputs": [],
   "source": [
    "m=model.Model(n = number_of_trials, \n",
    "              ΔA         = ΔA, \n",
    "              ΔB         = ΔB, \n",
    "              w_p        = w_p,\n",
    "              x_min_list = setting.x_min_list, \n",
    "              x_max_list = setting.x_max_list)\n",
    "\n",
    "for i in range(number_of_trials +1):\n",
    "    result_one_trial[(quantity_a[i], quantity_b[i])].append(m.one_trial(x_a = quantity_a[i], x_b = quantity_b[i]))"
   ]
  },
  {
   "cell_type": "code",
   "execution_count": null,
   "metadata": {},
   "outputs": [],
   "source": [
    "analysis = data_analysis.data_analysis_cells(result_one_trial = result_one_trial.copy(), \n",
    "                                             quantity_a = quantity_a, quantity_b = quantity_b)"
   ]
  },
  {
   "cell_type": "code",
   "execution_count": null,
   "metadata": {},
   "outputs": [],
   "source": [
    "g=graph.Graph(ΔA       = ΔA, \n",
    "              ΔB       = ΔB, \n",
    "              analysis = analysis)"
   ]
  },
  {
   "cell_type": "code",
   "execution_count": null,
   "metadata": {},
   "outputs": [],
   "source": [
    "figure_6I = g.firing_time_cjb(analysis.average_firing_rate_cj())"
   ]
  },
  {
   "cell_type": "code",
   "execution_count": null,
   "metadata": {},
   "outputs": [],
   "source": [
    "figure_6J = g.tuning_curve_cj(analysis.tuning_curve_cjb())"
   ]
  },
  {
   "cell_type": "code",
   "execution_count": null,
   "metadata": {},
   "outputs": [],
   "source": [
    "figure_6K = g.firing_time_cv(analysis.average_firing_rate_cv())"
   ]
  },
  {
   "cell_type": "code",
   "execution_count": null,
   "metadata": {},
   "outputs": [],
   "source": [
    "figure_6L = g.firing_chosen_value(analysis.average_firing_chosen_value())"
   ]
  }
 ],
 "metadata": {
  "kernelspec": {
   "display_name": "Python 3",
   "language": "python",
   "name": "python3"
  },
  "language_info": {
   "codemirror_mode": {
    "name": "ipython",
    "version": 3
   },
   "file_extension": ".py",
   "mimetype": "text/x-python",
   "name": "python",
   "nbconvert_exporter": "python",
   "pygments_lexer": "ipython3",
   "version": "3.5.2"
  }
 },
 "nbformat": 4,
 "nbformat_minor": 2
}
