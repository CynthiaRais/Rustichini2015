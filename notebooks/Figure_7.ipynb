{
 "cells": [
  {
   "cell_type": "markdown",
   "metadata": {},
   "source": [
    "# Figure 7 "
   ]
  },
  {
   "cell_type": "code",
   "execution_count": null,
   "metadata": {},
   "outputs": [],
   "source": [
    "import dotdot\n",
    "from neuromodel import Model, ReplicatedModel, Offers, run_model, load_analysis\n",
    "import neuromodel.graphs\n",
    "\n",
    "#%matplotlib notebook"
   ]
  },
  {
   "cell_type": "markdown",
   "metadata": {},
   "source": [
    "Like all figures in this replication effort, you can either employ the model that replicate the behavior of the Matlab code used to produce the figures in the original article, or the model that contains fixes to make it as close a the description in the original article."
   ]
  },
  {
   "cell_type": "code",
   "execution_count": null,
   "metadata": {},
   "outputs": [],
   "source": [
    "# set to True if you want to replicate the published figures.\n",
    "# set to False to use the 'corrected' model, as described in the article.\n",
    "replicate = False\n",
    "\n",
    "filename_suffix = ''\n",
    "if replicate:\n",
    "    filename_suffix = '_replicate'\n",
    "    Model = ReplicatedModel #  replacing the Model class"
   ]
  },
  {
   "cell_type": "code",
   "execution_count": null,
   "metadata": {},
   "outputs": [],
   "source": [
    "ΔA, ΔB, n = 10, 20, 4000\n",
    "offers = Offers(ΔA=ΔA, ΔB=ΔB, n=n, random_seed=0)"
   ]
  },
  {
   "cell_type": "code",
   "execution_count": null,
   "metadata": {},
   "outputs": [],
   "source": [
    "def compute_fig7_data(model_class=Model, w_p=1.82):\n",
    "    model = model_class(n=n, ΔA=ΔA, ΔB=ΔB, random_seed=1, w_p=1.82,\n",
    "                        range_A=offers.range_A, range_B=offers.range_B,\n",
    "                        hysteresis=True)\n",
    "    filename='data/fig7_{}[{}]{}.pickle'.format(w_p, n, filename_suffix)\n",
    "    return run_model(model, offers, history_keys=('r_ovb', 'r_2', 'r_I'), filename=filename)"
   ]
  },
  {
   "cell_type": "code",
   "execution_count": null,
   "metadata": {},
   "outputs": [],
   "source": [
    "analysis_7CD = load_analysis('data/fig4[{}]{}.pickle'.format(n, filename_suffix))\n",
    "graph_7CD = neuromodel.graphs.Graph(analysis_7CD, filename_suffix=filename_suffix)\n",
    "analysis_7EF = compute_fig7_data()\n",
    "graph_7EF = neuromodel.graphs.Graph(analysis_7EF, filename_suffix=filename_suffix)"
   ]
  },
  {
   "cell_type": "code",
   "execution_count": null,
   "metadata": {},
   "outputs": [],
   "source": [
    "# CJB firing across time\n",
    "data_7CD = analysis_7CD.choice_hysteresis()\n",
    "figure_7C = graph_7CD.means_previous_choice(data_7CD, title='Figure 7C', y_ticks =(0, 10, 20, 30, 40))"
   ]
  },
  {
   "cell_type": "code",
   "execution_count": null,
   "metadata": {},
   "outputs": [],
   "source": [
    "# CJB firing across time\n",
    "data_7EF = analysis_7EF.choice_hysteresis()\n",
    "figure_7E = graph_7EF.means_previous_choice(data_7EF, title='Figure 7E', y_ticks =(0, 10, 20, 30, 40))"
   ]
  },
  {
   "cell_type": "code",
   "execution_count": null,
   "metadata": {},
   "outputs": [],
   "source": [
    "# % choice B\n",
    "graph_7EF.regression_3D(analysis_7EF.regression_hysteresis(type='easy', range_A = ΔA), title='Figure 7F')\n",
    "graph_7EF.regression_3D(analysis_7EF.regression_hysteresis(type='split', range_A = ΔA), title='Figure 7F')"
   ]
  },
  {
   "cell_type": "markdown",
   "metadata": {},
   "source": [
    " "
   ]
  }
 ],
 "metadata": {
  "kernelspec": {
   "display_name": "Python 3",
   "language": "python",
   "name": "python3"
  },
  "language_info": {
   "codemirror_mode": {
    "name": "ipython",
    "version": 3
   },
   "file_extension": ".py",
   "mimetype": "text/x-python",
   "name": "python",
   "nbconvert_exporter": "python",
   "pygments_lexer": "ipython3",
   "version": "3.6.4"
  }
 },
 "nbformat": 4,
 "nbformat_minor": 2
}
