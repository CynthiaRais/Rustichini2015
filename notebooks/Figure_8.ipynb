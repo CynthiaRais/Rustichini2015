{
 "cells": [
  {
   "cell_type": "markdown",
   "metadata": {},
   "source": [
    "# Figure_8"
   ]
  },
  {
   "cell_type": "code",
   "execution_count": null,
   "metadata": {},
   "outputs": [],
   "source": [
    "import dotdot\n",
    "from neuromodel import Model, ReplicatedModel, Offers, run_model\n",
    "import neuromodel.graphs\n",
    "\n",
    "from neuromodel.graphs import blue_pale, blue_dark"
   ]
  },
  {
   "cell_type": "code",
   "execution_count": null,
   "metadata": {},
   "outputs": [],
   "source": [
    "# set to True if you want to replicate the published figures.\n",
    "# set to False to use the 'corrected' model, as described in the article.\n",
    "replicate = True\n",
    "\n",
    "filename_suffix = ''\n",
    "if replicate:\n",
    "    filename_suffix = '_replicate'\n",
    "    Model = ReplicatedModel #  replacing the Model class"
   ]
  },
  {
   "cell_type": "markdown",
   "metadata": {},
   "source": [
    "Like all figures in this replication effort, you can either employ the model that replicate the behavior of the Matlab code used to produce the figures in the original article, or the model that contains fixes to make it as close a the description in the original article."
   ]
  },
  {
   "cell_type": "code",
   "execution_count": null,
   "metadata": {},
   "outputs": [],
   "source": [
    "ΔA, ΔB, n = (0, 20), (0, 20), 4000\n",
    "offers = Offers(ΔA=ΔA, ΔB=ΔB, n=n, random_seed=0)"
   ]
  },
  {
   "cell_type": "code",
   "execution_count": null,
   "metadata": {},
   "outputs": [],
   "source": [
    "def compute_fig8_data():\n",
    "    \"\"\"The data is the same one as figure 4.\"\"\"\n",
    "    model = Model(n=n, ΔA=ΔA, ΔB=ΔB, random_seed=1)\n",
    "\n",
    "    filename = 'data/fig4[{}]{}.pickle'.format(n, filename_suffix)\n",
    "    return run_model(model, offers, history_keys=('r_ovb', 'r_2', 'r_I'), filename=filename)"
   ]
  },
  {
   "cell_type": "code",
   "execution_count": null,
   "metadata": {},
   "outputs": [],
   "source": [
    "analysis = compute_fig8_data()\n",
    "graph = neuromodel.graphs.Graph(analysis, filename_suffix=filename_suffix)"
   ]
  },
  {
   "cell_type": "code",
   "execution_count": null,
   "metadata": {},
   "outputs": [],
   "source": [
    "data_8 = analysis.easy_split_fig8('r_I', A_offers=range(10))\n",
    "figure_8 = graph.means_chosen_choice(data_8, title='Figure 8B', line_width=0.5, \n",
    "                                     y_range=(10.5, 15), y_ticks=(11, 12, 13, 15),\n",
    "                                     colors=[blue_pale, blue_dark], legends=['easy', 'split'])"
   ]
  },
  {
   "cell_type": "code",
   "execution_count": null,
   "metadata": {},
   "outputs": [],
   "source": [
    "data_8 = analysis.easy_split_fig8('r_I', A_offers=(8,))\n",
    "figure_8 = graph.means_chosen_choice(data_8, title='Figure 8B (inset)', line_width=0.5,\n",
    "                                     y_range=(10, 17), y_ticks=(12, 14, 16),\n",
    "                                     colors=[blue_pale, blue_dark], legends=['easy', 'split'])"
   ]
  },
  {
   "cell_type": "markdown",
   "metadata": {
    "collapsed": true
   },
   "source": [
    " "
   ]
  }
 ],
 "metadata": {
  "kernelspec": {
   "display_name": "Python 3",
   "language": "python",
   "name": "python3"
  },
  "language_info": {
   "codemirror_mode": {
    "name": "ipython",
    "version": 3
   },
   "file_extension": ".py",
   "mimetype": "text/x-python",
   "name": "python",
   "nbconvert_exporter": "python",
   "pygments_lexer": "ipython3",
   "version": "3.6.4"
  }
 },
 "nbformat": 4,
 "nbformat_minor": 2
}
