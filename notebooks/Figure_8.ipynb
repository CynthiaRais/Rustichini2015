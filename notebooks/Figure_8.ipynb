{
 "cells": [
  {
   "cell_type": "code",
   "execution_count": null,
   "metadata": {},
   "outputs": [],
   "source": [
    "import dotdot\n",
    "from neuromodel import Model, Offers, run_model, Graph\n",
    "from neuromodel import SpecificOffers\n",
    "%matplotlib notebook"
   ]
  },
  {
   "cell_type": "code",
   "execution_count": null,
   "metadata": {},
   "outputs": [],
   "source": [
    "ΔA, ΔB, n = 20, 20, 1500\n",
    "offers = Offers(ΔA=ΔA, ΔB=ΔB, n=n, random_seed=1)\n",
    "\n",
    "x_offers = ((1, 0), (20, 1), (16, 1), (12, 1), (8, 1), (4, 1), # specific offers for Figures 4C, 4G, 4K\n",
    "            (1, 4), (1, 8), (1, 12), (1, 16), (1, 20), (0, 1))\n",
    "#offers = SpecificOffers(specific_offers=(x_offers), range_A=(0, 20), range_B=(0, 20), n=1500)"
   ]
  },
  {
   "cell_type": "code",
   "execution_count": null,
   "metadata": {},
   "outputs": [],
   "source": [
    "def compute_fig4_data():\n",
    "    model = Model(n=n, ΔA=ΔA, ΔB=ΔB, random_seed=0,\n",
    "                  range_A=offers.range_A, range_B=offers.range_B)\n",
    "\n",
    "    filename='data/fig4[{}].pickle'.format(n)\n",
    "    return run_model(model, offers, history_keys=('r_ovb', 'r_2', 'r_I'), filename=filename)"
   ]
  },
  {
   "cell_type": "code",
   "execution_count": null,
   "metadata": {},
   "outputs": [],
   "source": [
    "analysis = compute_fig4_data()\n",
    "graph = Graph(analysis)"
   ]
  },
  {
   "cell_type": "code",
   "execution_count": null,
   "metadata": {},
   "outputs": [],
   "source": [
    "data_8 = analysis.easy_split('r_I')\n",
    "figure_8 = graph.means_chosen_choice(data_8, title='Figure 8',\n",
    "                                      y_range=(10, 18), y_ticks=(10, 12, 14, 16, 18))"
   ]
  },
  {
   "cell_type": "code",
   "execution_count": null,
   "metadata": {},
   "outputs": [],
   "source": []
  }
 ],
 "metadata": {
  "kernelspec": {
   "display_name": "Python 3",
   "language": "python",
   "name": "python3"
  },
  "language_info": {
   "codemirror_mode": {
    "name": "ipython",
    "version": 3
   },
   "file_extension": ".py",
   "mimetype": "text/x-python",
   "name": "python",
   "nbconvert_exporter": "python",
   "pygments_lexer": "ipython3",
   "version": "3.5.3"
  }
 },
 "nbformat": 4,
 "nbformat_minor": 2
}
