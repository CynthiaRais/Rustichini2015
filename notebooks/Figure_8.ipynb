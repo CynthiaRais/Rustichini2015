{
 "cells": [
  {
   "cell_type": "code",
   "execution_count": 10,
   "metadata": {
    "collapsed": true
   },
   "outputs": [],
   "source": [
    "import dotdot\n",
    "from neuromodel import Model, ReplicatedModel, Offers, run_model\n",
    "import neuromodel.graphs\n",
    "\n",
    "#%matplotlib notebook"
   ]
  },
  {
   "cell_type": "code",
   "execution_count": 7,
   "metadata": {
    "collapsed": true
   },
   "outputs": [],
   "source": [
    "# set to True if you want to replicate the published figures.\n",
    "# set to False to use the 'corrected' model, as described in the article.\n",
    "replicate = False\n",
    "\n",
    "if replicate:\n",
    "    Model = ReplicatedModel #  replacing the Model class"
   ]
  },
  {
   "cell_type": "code",
   "execution_count": 4,
   "metadata": {
    "collapsed": true
   },
   "outputs": [],
   "source": [
    "ΔA, ΔB, n = 20, 20, 4000\n",
    "offers = Offers(ΔA=ΔA, ΔB=ΔB, n=n, random_seed=0)\n",
    "\n",
    "x_offers = ((1, 0), (20, 1), (16, 1), (12, 1), (8, 1), (4, 1), # specific offers for Figures 4C, 4G, 4K\n",
    "            (1, 4), (1, 8), (1, 12), (1, 16), (1, 20), (0, 1))\n",
    "#offers = SpecificOffers(specific_offers=(x_offers), range_A=(0, 20), range_B=(0, 20), n=1500)"
   ]
  },
  {
   "cell_type": "code",
   "execution_count": 11,
   "metadata": {
    "collapsed": true
   },
   "outputs": [],
   "source": [
    "def compute_fig8_data():\n",
    "    model = Model(n=n, ΔA=ΔA, ΔB=ΔB, random_seed=1,\n",
    "                  range_A=offers.range_A, range_B=offers.range_B)\n",
    "\n",
    "    filename_suffix = '_replicate' if replicate else ''\n",
    "    filename='data/fig8[{}]{}.pickle'.format(n, filename_suffix)\n",
    "    return run_model(model, offers, history_keys=('r_ovb', 'r_2', 'r_I'), filename=filename)"
   ]
  },
  {
   "cell_type": "code",
   "execution_count": 12,
   "metadata": {},
   "outputs": [
    {
     "name": "stdout",
     "output_type": "stream",
     "text": [
      "Loading results of Model from disk: data/fig4[4000]_replicate.pickle.\n"
     ]
    },
    {
     "ename": "NameError",
     "evalue": "name 'Graph' is not defined",
     "output_type": "error",
     "traceback": [
      "\u001b[0;31m---------------------------------------------------------------------------\u001b[0m",
      "\u001b[0;31mNameError\u001b[0m                                 Traceback (most recent call last)",
      "\u001b[0;32m<ipython-input-12-8192956d5db3>\u001b[0m in \u001b[0;36m<module>\u001b[0;34m()\u001b[0m\n\u001b[1;32m      1\u001b[0m \u001b[0manalysis\u001b[0m \u001b[0;34m=\u001b[0m \u001b[0mcompute_fig4_data\u001b[0m\u001b[0;34m(\u001b[0m\u001b[0;34m)\u001b[0m\u001b[0;34m\u001b[0m\u001b[0m\n\u001b[0;32m----> 2\u001b[0;31m \u001b[0mgraph\u001b[0m \u001b[0;34m=\u001b[0m \u001b[0mGraph\u001b[0m\u001b[0;34m(\u001b[0m\u001b[0manalysis\u001b[0m\u001b[0;34m)\u001b[0m\u001b[0;34m\u001b[0m\u001b[0m\n\u001b[0m",
      "\u001b[0;31mNameError\u001b[0m: name 'Graph' is not defined"
     ]
    }
   ],
   "source": [
    "analysis = compute_fig8_data()\n",
    "graph = neuromodel.graphs.Graph(analysis)"
   ]
  },
  {
   "cell_type": "code",
   "execution_count": null,
   "metadata": {
    "collapsed": true
   },
   "outputs": [],
   "source": [
    "data_8 = analysis.easy_split('r_I')\n",
    "figure_8 = graph.means_chosen_choice(data_8, title='Figure 8',\n",
    "                                      y_range=(10, 18), y_ticks=(10, 12, 14, 16, 18))"
   ]
  },
  {
   "cell_type": "code",
   "execution_count": null,
   "metadata": {
    "collapsed": true
   },
   "outputs": [],
   "source": []
  }
 ],
 "metadata": {
  "kernelspec": {
   "display_name": "Python 3",
   "language": "python",
   "name": "python3"
  },
  "language_info": {
   "codemirror_mode": {
    "name": "ipython",
    "version": 3
   },
   "file_extension": ".py",
   "mimetype": "text/x-python",
   "name": "python",
   "nbconvert_exporter": "python",
   "pygments_lexer": "ipython3",
   "version": "3.5.3"
  }
 },
 "nbformat": 4,
 "nbformat_minor": 2
}
