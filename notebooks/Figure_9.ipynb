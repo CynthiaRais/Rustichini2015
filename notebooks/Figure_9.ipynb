{
 "cells": [
  {
   "cell_type": "code",
   "execution_count": null,
   "metadata": {},
   "outputs": [],
   "source": [
    "import dotdot\n",
    "from neuromodel import Model, ReplicatedModel, Offers, run_model, load_analysis\n",
    "import neuromodel.graphs"
   ]
  },
  {
   "cell_type": "markdown",
   "metadata": {},
   "source": [
    "Like all figures in this replication effort, you can either employ the model that replicate the behavior of the Matlab code used to produce the figures in the original article, or the model that contains fixes to make it as close a the description in the original article."
   ]
  },
  {
   "cell_type": "code",
   "execution_count": null,
   "metadata": {},
   "outputs": [],
   "source": [
    "model_class=Model              # use the corrected model that matches the article's description\n",
    "# model_class=ReplicatedModel  # use a model that can replicate published figures"
   ]
  },
  {
   "cell_type": "code",
   "execution_count": null,
   "metadata": {},
   "outputs": [],
   "source": [
    "ΔA, ΔB, n = (0, 10), (0, 20), 4000\n",
    "offers = Offers(ΔA=ΔA, ΔB=ΔB, n=n, random_seed=0)"
   ]
  },
  {
   "cell_type": "code",
   "execution_count": null,
   "metadata": {},
   "outputs": [],
   "source": [
    "def compute_fig9_data(model_class, w_p=1.75, ΔJ=30):\n",
    "    model = model_class(n=n, ΔA=ΔA, ΔB=ΔB, random_seed=1, w_p=w_p, ΔJ=ΔJ)\n",
    "    filename = 'data/fig10_{}_{}[{}]{}.pickle'.format(w_p, ΔJ, n, model.desc)\n",
    "    return run_model(model, offers, history_keys=('r_ovb', 'r_2', 'r_I'), filename=filename)"
   ]
  },
  {
   "cell_type": "markdown",
   "metadata": {},
   "source": [
    "## Figure B1, B2, B3"
   ]
  },
  {
   "cell_type": "code",
   "execution_count": null,
   "metadata": {},
   "outputs": [],
   "source": [
    "analysis_9B = compute_fig9_data(model_class=model_class, w_p=1.75, ΔJ=30)\n",
    "graph_9B = neuromodel.graphs.Graph(analysis_9B)"
   ]
  },
  {
   "cell_type": "markdown",
   "metadata": {},
   "source": [
    "## Figure C1, C2, C3"
   ]
  },
  {
   "cell_type": "code",
   "execution_count": null,
   "metadata": {},
   "outputs": [],
   "source": [
    "analysis_9C = compute_fig9_data(model_class=model_class, w_p=1.85, ΔJ=30)\n",
    "graph_9C = neuromodel.graphs.Graph(analysis_9C)"
   ]
  },
  {
   "cell_type": "markdown",
   "metadata": {},
   "source": [
    "## Figure D1, D2, D3"
   ]
  },
  {
   "cell_type": "code",
   "execution_count": null,
   "metadata": {},
   "outputs": [],
   "source": [
    "analysis_9D = compute_fig9_data(model_class=model_class, w_p=1.75, ΔJ=15)\n",
    "graph_9D = neuromodel.graphs.Graph(analysis_9D)"
   ]
  }
 ],
 "metadata": {
  "kernelspec": {
   "display_name": "Python 3",
   "language": "python",
   "name": "python3"
  },
  "language_info": {
   "codemirror_mode": {
    "name": "ipython",
    "version": 3
   },
   "file_extension": ".py",
   "mimetype": "text/x-python",
   "name": "python",
   "nbconvert_exporter": "python",
   "pygments_lexer": "ipython3",
   "version": "3.6.4"
  }
 },
 "nbformat": 4,
 "nbformat_minor": 2
}
