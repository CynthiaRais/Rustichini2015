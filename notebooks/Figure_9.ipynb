{
 "cells": [
  {
   "cell_type": "code",
   "execution_count": null,
   "metadata": {},
   "outputs": [],
   "source": [
    "import dotdot\n",
    "import model\n",
    "import graph\n",
    "import settings\n",
    "import data_analysis\n",
    "import bokeh.plotting\n",
    "%matplotlib notebook"
   ]
  },
  {
   "cell_type": "code",
   "execution_count": null,
   "metadata": {},
   "outputs": [],
   "source": [
    "#B1-D1\n",
    "# Parameters and settings\n",
    "ΔA = (0, 15)\n",
    "ΔB = (0, 15)\n",
    "w_p = 1.75\n",
    "number_of_trials = 4000\n",
    "ΔJ = 30\n",
    "\n",
    "setting = settings.Presetting(ΔA = ΔA, ΔB = ΔB)\n",
    "setting.quantity_juice()"
   ]
  },
  {
   "cell_type": "code",
   "execution_count": null,
   "metadata": {},
   "outputs": [],
   "source": [
    "m=model.Model(n = number_of_trials, \n",
    "              ΔA            = ΔA, \n",
    "              ΔB            = ΔB, \n",
    "              w_p           = w_p,\n",
    "              r_o           = r_o,\n",
    "              J_ampa_rec_in = J_ampa_rec_in, \n",
    "              J_nmda_rec_in = J_nmda_rec_in, \n",
    "              J_gaba_rec_in = J_gaba_rec_in,\n",
    "              ΔJ            = ΔJ,\n",
    "              x_min_list    = setting.x_min_list, \n",
    "              x_max_list    = setting.x_max_list)\n",
    "for i in range(number_of_trials +1):\n",
    "    result_one_trial[(quantity_a[i], quantity_b[i])].append(m.one_trial(x_a = quantity_a[i], x_b = quantity_b[i]))"
   ]
  },
  {
   "cell_type": "code",
   "execution_count": null,
   "metadata": {},
   "outputs": [],
   "source": [
    "analysis = data_analysis.data_analysis_cells(result_one_trial = result_one_trial.copy(), \n",
    "                                             quantity_a = quantity_a, quantity_b = quantity_b)"
   ]
  },
  {
   "cell_type": "code",
   "execution_count": null,
   "metadata": {},
   "outputs": [],
   "source": [
    "g=graph.Graph(ΔA=ΔA, ΔB = ΔB, analysis=analysis)"
   ]
  },
  {
   "cell_type": "code",
   "execution_count": null,
   "metadata": {},
   "outputs": [],
   "source": [
    "#B2-D2\n",
    "#Parameters and settings\n",
    "ΔA = (0, 15)\n",
    "ΔB = (0, 15)\n",
    "w_p = 1.85\n",
    "number_of_trials = 4000\n",
    "ΔJ = 30\n",
    "\n",
    "setting = settings.Presetting(ΔA = ΔA, ΔB = ΔB)\n",
    "setting.quantity_juice()"
   ]
  },
  {
   "cell_type": "code",
   "execution_count": null,
   "metadata": {},
   "outputs": [],
   "source": [
    "m=model.Model(n = number_of_trials, \n",
    "              ΔA            = ΔA, \n",
    "              ΔB            = ΔB, \n",
    "              w_p           = w_p,\n",
    "              r_o           = r_o,\n",
    "              J_ampa_rec_in = J_ampa_rec_in, \n",
    "              J_nmda_rec_in = J_nmda_rec_in, \n",
    "              J_gaba_rec_in = J_gaba_rec_in,\n",
    "              ΔJ            = ΔJ,\n",
    "              x_min_list    = setting.x_min_list, \n",
    "              x_max_list    = setting.x_max_list)\n",
    "for i in range(number_of_trials +1):\n",
    "    result_one_trial[(quantity_a[i], quantity_b[i])].append(m.one_trial(x_a = quantity_a[i], x_b = quantity_b[i]))"
   ]
  },
  {
   "cell_type": "code",
   "execution_count": null,
   "metadata": {},
   "outputs": [],
   "source": [
    "analysis = data_analysis.data_analysis_cells(result_one_trial = result_one_trial.copy(), \n",
    "                                             quantity_a = quantity_a, quantity_b = quantity_b)"
   ]
  },
  {
   "cell_type": "code",
   "execution_count": null,
   "metadata": {},
   "outputs": [],
   "source": [
    "g=graph.Graph(ΔA=ΔA, ΔB = ΔB, analysis=analysis)"
   ]
  },
  {
   "cell_type": "code",
   "execution_count": null,
   "metadata": {},
   "outputs": [],
   "source": [
    "#B3-D3\n",
    "#Parameters and settings\n",
    "ΔA = (0, 15)\n",
    "ΔB = (0, 15)\n",
    "w_p = 1.75\n",
    "number_of_trials = 4000\n",
    "ΔJ = 15\n",
    "\n",
    "setting = settings.Presetting(ΔA = ΔA, ΔB = ΔB)\n",
    "setting.quantity_juice()"
   ]
  },
  {
   "cell_type": "code",
   "execution_count": null,
   "metadata": {},
   "outputs": [],
   "source": [
    "m=model.Model(n = number_of_trials, \n",
    "              ΔA            = ΔA, \n",
    "              ΔB            = ΔB, \n",
    "              w_p           = w_p,\n",
    "              r_o           = r_o,\n",
    "              J_ampa_rec_in = J_ampa_rec_in, \n",
    "              J_nmda_rec_in = J_nmda_rec_in, \n",
    "              J_gaba_rec_in = J_gaba_rec_in,\n",
    "              ΔJ            = ΔJ,\n",
    "              x_min_list    = setting.x_min_list, \n",
    "              x_max_list    = setting.x_max_list)\n",
    "for i in range(number_of_trials +1):\n",
    "    result_one_trial[(quantity_a[i], quantity_b[i])].append(m.one_trial(x_a = quantity_a[i], x_b = quantity_b[i]))"
   ]
  },
  {
   "cell_type": "code",
   "execution_count": null,
   "metadata": {},
   "outputs": [],
   "source": [
    "analysis = data_analysis.data_analysis_cells(result_one_trial = result_one_trial.copy(), \n",
    "                                             quantity_a = quantity_a, quantity_b = quantity_b)"
   ]
  },
  {
   "cell_type": "code",
   "execution_count": null,
   "metadata": {},
   "outputs": [],
   "source": [
    "g=graph.Graph(ΔA=ΔA, ΔB = ΔB, analysis=analysis)"
   ]
  }
 ],
 "metadata": {
  "kernelspec": {
   "display_name": "Python 3",
   "language": "python",
   "name": "python3"
  },
  "language_info": {
   "codemirror_mode": {
    "name": "ipython",
    "version": 3
   },
   "file_extension": ".py",
   "mimetype": "text/x-python",
   "name": "python",
   "nbconvert_exporter": "python",
   "pygments_lexer": "ipython3",
   "version": "3.6.4"
  }
 },
 "nbformat": 4,
 "nbformat_minor": 2
}
