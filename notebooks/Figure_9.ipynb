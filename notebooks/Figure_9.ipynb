{
 "cells": [
  {
   "cell_type": "code",
   "execution_count": null,
   "metadata": {},
   "outputs": [],
   "source": [
    "import dotdot\n",
    "from neuromodel import Model, ReplicatedModel, Offers, run_model, load_analysis\n",
    "import neuromodel.graphs"
   ]
  },
  {
   "cell_type": "markdown",
   "metadata": {},
   "source": [
    "Like all figures in this replication effort, you can either employ the model that replicate the behavior of the Matlab code used to produce the figures in the original article, or the model that contains fixes to make it as close a the description in the original article."
   ]
  },
  {
   "cell_type": "code",
   "execution_count": null,
   "metadata": {},
   "outputs": [],
   "source": [
    "model_class=Model              # use the corrected model that matches the article's description\n",
    "model_class=ReplicatedModel  # use a model that can replicate published figures"
   ]
  },
  {
   "cell_type": "code",
   "execution_count": null,
   "metadata": {},
   "outputs": [],
   "source": [
    "ΔA, ΔB, n = (0, 15), (0, 15), 4000\n",
    "offers = Offers(ΔA=ΔA, ΔB=ΔB, n=n, random_seed=0)"
   ]
  },
  {
   "cell_type": "code",
   "execution_count": null,
   "metadata": {},
   "outputs": [],
   "source": [
    "def compute_fig9_data(model_class, w_p=1.75, ΔJ=30):\n",
    "    model = model_class(n=n, ΔA=ΔA, ΔB=ΔB, random_seed=1, w_p=w_p, ΔJ=ΔJ)\n",
    "    filename = 'data/fig9_{}_{}[{}]{}.pickle'.format(w_p, ΔJ, n, model.desc)\n",
    "    return run_model(model, offers, history_keys=('r_1', 'r_2'), filename=filename, preprocess=False)"
   ]
  },
  {
   "cell_type": "markdown",
   "metadata": {},
   "source": [
    "## Precomputation"
   ]
  },
  {
   "cell_type": "code",
   "execution_count": null,
   "metadata": {},
   "outputs": [],
   "source": [
    "offers_1 = [(x_A, x_B) for x_A in range(16) for x_B in range(16) if x_A != 0 or x_B != 0]\n",
    "offers_2 = [(x_A, x_B) for x_A in range(16) for x_B in range(16) if 14 <= abs(x_A + x_B) <= 16]\n",
    "offers_3 = [(x_A, x_B) for x_A in range(16) for x_B in range(16) if (x_A != 0 or x_B != 0) and abs(x_A - x_B) < 2]"
   ]
  },
  {
   "cell_type": "code",
   "execution_count": null,
   "metadata": {},
   "outputs": [],
   "source": [
    "analysis_9B = compute_fig9_data(model_class=model_class, w_p=1.75, ΔJ=30)\n",
    "graph_9B = neuromodel.graphs.Graph(analysis_9B)"
   ]
  },
  {
   "cell_type": "code",
   "execution_count": null,
   "metadata": {},
   "outputs": [],
   "source": [
    "analysis_9C = compute_fig9_data(model_class=model_class, w_p=1.85, ΔJ=30)\n",
    "graph_9C = neuromodel.graphs.Graph(analysis_9C)"
   ]
  },
  {
   "cell_type": "code",
   "execution_count": null,
   "metadata": {},
   "outputs": [],
   "source": [
    "analysis_9D = compute_fig9_data(model_class=model_class, w_p=1.75, ΔJ=15)\n",
    "graph_9D = neuromodel.graphs.Graph(analysis_9D)"
   ]
  },
  {
   "cell_type": "markdown",
   "metadata": {},
   "source": [
    "## Figure A1, B1, C1, D1"
   ]
  },
  {
   "cell_type": "code",
   "execution_count": null,
   "metadata": {},
   "outputs": [],
   "source": [
    "graph_9B.fig9_offers(offers_1, 'Figure A1')"
   ]
  },
  {
   "cell_type": "code",
   "execution_count": null,
   "metadata": {},
   "outputs": [],
   "source": [
    "graph_9B.fig9_activity(analysis_9B, offers_1, 'Figure B1', xy_max=20)"
   ]
  },
  {
   "cell_type": "code",
   "execution_count": null,
   "metadata": {},
   "outputs": [],
   "source": [
    "graph_9C.fig9_activity(analysis_9C, offers_1, 'Figure C1', xy_max=35)"
   ]
  },
  {
   "cell_type": "code",
   "execution_count": null,
   "metadata": {},
   "outputs": [],
   "source": [
    "graph_9D.fig9_activity(analysis_9D, offers_1, 'Figure D1', xy_max=15)"
   ]
  },
  {
   "cell_type": "markdown",
   "metadata": {},
   "source": [
    "## Figure A2, B2, C2, D2"
   ]
  },
  {
   "cell_type": "code",
   "execution_count": null,
   "metadata": {},
   "outputs": [],
   "source": [
    "graph_9B.fig9_offers(offers_2, 'Figure A2')"
   ]
  },
  {
   "cell_type": "code",
   "execution_count": null,
   "metadata": {},
   "outputs": [],
   "source": [
    "graph_9B.fig9_activity(analysis_9B, offers_2, 'Figure B2', xy_max=20)"
   ]
  },
  {
   "cell_type": "code",
   "execution_count": null,
   "metadata": {},
   "outputs": [],
   "source": [
    "graph_9C.fig9_activity(analysis_9C, offers_2, 'Figure C2', xy_max=35)"
   ]
  },
  {
   "cell_type": "code",
   "execution_count": null,
   "metadata": {},
   "outputs": [],
   "source": [
    "graph_9D.fig9_activity(analysis_9D, offers_2, 'Figure D2', xy_max=15)"
   ]
  },
  {
   "cell_type": "markdown",
   "metadata": {},
   "source": [
    "## Figure A3, B3, C3, D3"
   ]
  },
  {
   "cell_type": "code",
   "execution_count": null,
   "metadata": {},
   "outputs": [],
   "source": [
    "graph_9B.fig9_offers(offers_3, 'Figure A3', color_rotation=90)"
   ]
  },
  {
   "cell_type": "code",
   "execution_count": null,
   "metadata": {},
   "outputs": [],
   "source": [
    "graph_9B.fig9_activity(analysis_9B, offers_3, 'Figure B3', xy_max=20, color_rotation=90)"
   ]
  },
  {
   "cell_type": "code",
   "execution_count": null,
   "metadata": {},
   "outputs": [],
   "source": [
    "graph_9C.fig9_activity(analysis_9C, offers_3, 'Figure C3', xy_max=35, color_rotation=90)"
   ]
  },
  {
   "cell_type": "code",
   "execution_count": null,
   "metadata": {},
   "outputs": [],
   "source": [
    "graph_9D.fig9_activity(analysis_9D, offers_3, 'Figure D3', xy_max=15, color_rotation=90)"
   ]
  },
  {
   "cell_type": "markdown",
   "metadata": {},
   "source": [
    " "
   ]
  }
 ],
 "metadata": {
  "kernelspec": {
   "display_name": "Python 3",
   "language": "python",
   "name": "python3"
  },
  "language_info": {
   "codemirror_mode": {
    "name": "ipython",
    "version": 3
   },
   "file_extension": ".py",
   "mimetype": "text/x-python",
   "name": "python",
   "nbconvert_exporter": "python",
   "pygments_lexer": "ipython3",
   "version": "3.6.4"
  }
 },
 "nbformat": 4,
 "nbformat_minor": 2
}
