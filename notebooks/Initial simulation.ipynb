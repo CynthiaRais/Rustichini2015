{
 "cells": [
  {
   "cell_type": "code",
   "execution_count": null,
   "metadata": {},
   "outputs": [],
   "source": [
    "import dotdot\n",
    "import model\n",
    "import graph\n",
    "import settings\n",
    "import data_analysis\n",
    "import bokeh.plotting\n",
    "%matplotlib notebook\n"
   ]
  },
  {
   "cell_type": "code",
   "execution_count": null,
   "metadata": {},
   "outputs": [],
   "source": [
    "#figure 4\n",
    "#Parameters\n",
    "ΔA = 20\n",
    "ΔB = 20\n",
    "w_p= 1.75\n",
    "number_of_trials = 100\n",
    "setting = settings.Presetting(ΔA = ΔA, ΔB = ΔB)\n",
    "quantity_a, quantity_b, x_min_list, x_max_list = setting.quantity_juice()\n",
    "result_one_trial = setting.result_trials()"
   ]
  },
  {
   "cell_type": "code",
   "execution_count": null,
   "metadata": {},
   "outputs": [],
   "source": [
    "#Model and analysis\n",
    "m=model.Model(n = number_of_trials, ΔA = ΔA, ΔB = ΔB, w_p = w_p,\n",
    "              x_min_list = setting.x_min_list, x_max_list = setting.x_max_list)\n",
    "              \n",
    "\n",
    "for i in range(number_of_trials):\n",
    "    result_one_trial[(quantity_a[i], quantity_b[i])].append(m.one_trial(x_a = quantity_a[i], x_b = quantity_b[i]))\n",
    "    \n",
    "#m.save_history('data.pickle')\n",
    "\n",
    "analysis = data_analysis.data_analysis_cells(result_one_trial = result_one_trial.copy(), \n",
    "                                             quantity_a = quantity_a, quantity_b = quantity_b)\n",
    "\n",
    "#figure_noise = g.noise(result_one_trial[(10,14)])\n",
    "#figure_one_trial = g.testcja_cjb_cv(result_one_trial[(10,14)])\n"
   ]
  },
  {
   "cell_type": "code",
   "execution_count": null,
   "metadata": {},
   "outputs": [],
   "source": [
    "g=graph.Graph(ΔA=ΔA, ΔB = ΔB, analysis=analysis)"
   ]
  },
  {
   "cell_type": "code",
   "execution_count": null,
   "metadata": {},
   "outputs": [],
   "source": [
    "import numpy as np\n",
    "figure = bokeh.plotting.figure(title=\"Figure 4 A\", plot_width=300, plot_height=300)\n",
    "figure.line(x=np.arange(-1, 1, 0.0005), y = result_one_trial[(quantity_a[0], quantity_b[0])][0][2])\n",
    "print(quantity_a[0], quantity_b[0])\n",
    "bokeh.plotting.show(figure)"
   ]
  },
  {
   "cell_type": "code",
   "execution_count": null,
   "metadata": {},
   "outputs": [],
   "source": [
    "for i in range(len(quantity_a)):\n",
    "    for l in range(len(result_one_trial[(quantity_a[i], quantity_b[i])])):\n",
    "        if result_one_trial[(quantity_a[i], quantity_b[i])][0][5] != result_one_trial[(quantity_a[i], quantity_b[i])][l][5]:\n",
    "            print(\"other choice\")"
   ]
  },
  {
   "cell_type": "code",
   "execution_count": null,
   "metadata": {},
   "outputs": [],
   "source": [
    "import numpy as np\n",
    "a = analysis.func_result()\n",
    "print(quantity_a[6], quantity_b[10])\n",
    "figure = g.test(a[(quantity_a[6], quantity_b[6], 'B')][2],a[(quantity_a[16], quantity_b[16], 'B')][2])\n",
    "figure_b = bokeh.plotting.figure(title=\"Figure test\", plot_width=300, plot_height=300)\n",
    "figure_b.line(x = np.arange(-0.5,1, 0.0005), y = result_one_trial[(quantity_a[6],quantity_b[6])][0][2], line_width=2)\n",
    "bokeh.plotting.show(figure_b)"
   ]
  },
  {
   "cell_type": "code",
   "execution_count": null,
   "metadata": {},
   "outputs": [],
   "source": [
    "figure_4A = g.firing_time_ov(analysis.average_firing_rate_B_ov())"
   ]
  },
  {
   "cell_type": "code",
   "execution_count": null,
   "metadata": {},
   "outputs": [],
   "source": [
    "figure_4B = g.tuning_curve_ov(analysis.tuning_curve_ov())"
   ]
  },
  {
   "cell_type": "code",
   "execution_count": null,
   "metadata": {},
   "outputs": [],
   "source": [
    "figure_4C = g.firing_specific_set_ov(analysis.average_firing_time_windows_ov(), analysis.pourcentage_B())"
   ]
  },
  {
   "cell_type": "code",
   "execution_count": null,
   "metadata": {},
   "outputs": [],
   "source": [
    "figure_4D = g.firing_offer_B(analysis.average_firing_offerB_ov())"
   ]
  },
  {
   "cell_type": "code",
   "execution_count": null,
   "metadata": {},
   "outputs": [],
   "source": [
    "figure_4E = g.firing_time_cjb(analysis.average_firing_rate_cj())"
   ]
  },
  {
   "cell_type": "code",
   "execution_count": null,
   "metadata": {},
   "outputs": [],
   "source": [
    "figure_4F = g.tuning_curve_cj(analysis.tuning_curve_cjb())"
   ]
  },
  {
   "cell_type": "code",
   "execution_count": null,
   "metadata": {},
   "outputs": [],
   "source": [
    "figure_4G = g.firing_specific_set_cjb(analysis.average_firing_time_windows_cjb(), analysis.pourcentage_B())"
   ]
  },
  {
   "cell_type": "code",
   "execution_count": null,
   "metadata": {},
   "outputs": [],
   "source": [
    "figure_4H = g.firing_choice(analysis.average_firing_choice_cj())"
   ]
  },
  {
   "cell_type": "code",
   "execution_count": null,
   "metadata": {},
   "outputs": [],
   "source": [
    "figure_4I = g.firing_time_cv(analysis.average_firing_rate_cv())"
   ]
  },
  {
   "cell_type": "code",
   "execution_count": null,
   "metadata": {},
   "outputs": [],
   "source": [
    "figure_4J = g.tuning_curve_cv(analysis.tuning_curve_cv())"
   ]
  },
  {
   "cell_type": "code",
   "execution_count": null,
   "metadata": {},
   "outputs": [],
   "source": [
    "figure_4K = g.firing_specific_set_cv(analysis.average_firing_time_windows_cv(), analysis.pourcentage_B())"
   ]
  },
  {
   "cell_type": "code",
   "execution_count": null,
   "metadata": {},
   "outputs": [],
   "source": [
    "figure_4L = g.firing_chosen_value(analysis.average_firing_chosen_value())"
   ]
  },
  {
   "cell_type": "code",
   "execution_count": null,
   "metadata": {},
   "outputs": [],
   "source": []
  }
 ],
 "metadata": {
  "kernelspec": {
   "display_name": "Python 3",
   "language": "python",
   "name": "python3"
  },
  "language_info": {
   "codemirror_mode": {
    "name": "ipython",
    "version": 3
   },
   "file_extension": ".py",
   "mimetype": "text/x-python",
   "name": "python",
   "nbconvert_exporter": "python",
   "pygments_lexer": "ipython3",
   "version": "3.5.2"
  }
 },
 "nbformat": 4,
 "nbformat_minor": 2
}
