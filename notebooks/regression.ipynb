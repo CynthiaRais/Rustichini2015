{
 "cells": [
  {
   "cell_type": "markdown",
   "metadata": {},
   "source": [
    "# Sigmoid Regression\n",
    "\n",
    "We use the `scipy.optimize.curve_fit` function for the estimation through non-linear regression of the parameters of the model described in equation 25. "
   ]
  },
  {
   "cell_type": "code",
   "execution_count": null,
   "metadata": {},
   "outputs": [],
   "source": [
    "import numpy as np\n",
    "import scipy.optimize\n",
    "\n",
    "import dotdot\n",
    "from neuromodel import Model, Offers, run_model\n",
    "import neuromodel.graphs\n",
    "\n",
    "%matplotlib notebook"
   ]
  },
  {
   "cell_type": "code",
   "execution_count": null,
   "metadata": {},
   "outputs": [],
   "source": [
    "ΔA, ΔB, n = 20, 20, 4000\n",
    "offers = Offers(ΔA=ΔA, ΔB=ΔB, n=n, random_seed=1)\n",
    "\n",
    "x_offers = ((1, 0), (20, 1), (16, 1), (12, 1), (8, 1), (4, 1), # specific offers for Figures 4C, 4G, 4K\n",
    "            (1, 4), (1, 8), (1, 12), (1, 16), (1, 20), (0, 1))"
   ]
  },
  {
   "cell_type": "code",
   "execution_count": null,
   "metadata": {},
   "outputs": [],
   "source": [
    "def compute_fig4_data():\n",
    "    model = Model(n=n, ΔA=ΔA, ΔB=ΔB, random_seed=0,\n",
    "                  range_A=offers.range_A, range_B=offers.range_B)\n",
    "\n",
    "    filename='data/fig4[{}].pickle'.format(n)\n",
    "    return run_model(model, offers, history_keys=('r_ovb', 'r_2', 'r_I'), filename=filename)"
   ]
  },
  {
   "cell_type": "code",
   "execution_count": null,
   "metadata": {},
   "outputs": [],
   "source": [
    "analysis = compute_fig4_data()"
   ]
  },
  {
   "cell_type": "code",
   "execution_count": null,
   "metadata": {},
   "outputs": [],
   "source": [
    "def func(x, a_0, a_1, a_2, a_3, a_4, a_5):\n",
    "    x_a, x_b = x\n",
    "    X = a_0 + a_1 * x_a + a_2 * x_b + a_3 * x_a*x_a + a_4 * x_b*x_b + a_5 * x_a*x_b\n",
    "    return 1/(1 + np.exp(-X))"
   ]
  },
  {
   "cell_type": "code",
   "execution_count": null,
   "metadata": {},
   "outputs": [],
   "source": [
    "X_A, X_B, choice_B = [], [], []\n",
    "for (x_a, x_b), (n_a, n_b) in sorted(analysis.choices.items()):\n",
    "    if x_a != 0 or x_b != 0:\n",
    "        X_A.append(x_a)\n",
    "        X_B.append(x_b)\n",
    "        choice_B.append(n_b / (n_a + n_b))"
   ]
  },
  {
   "cell_type": "code",
   "execution_count": null,
   "metadata": {},
   "outputs": [],
   "source": [
    "a_opt, a_cov = scipy.optimize.curve_fit(func, [X_A, X_B], choice_B, bounds=((-20,)*6, (20,)*6))"
   ]
  },
  {
   "cell_type": "code",
   "execution_count": null,
   "metadata": {},
   "outputs": [],
   "source": [
    "print('Regression results')\n",
    "for i, a in enumerate(a_opt):\n",
    "    print('a_{} = {: .4f}'.format(i, a))"
   ]
  },
  {
   "cell_type": "code",
   "execution_count": null,
   "metadata": {},
   "outputs": [],
   "source": [
    "# computing the regressed model over all possible quantities by 0.5 increments.\n",
    "X_A_reg = np.arange(0, 20.5, 0.5)\n",
    "X_B_reg = np.arange(0, 20.5, 0.5)\n",
    "X_A_reg, X_B_reg = np.meshgrid(X_A_reg, X_B_reg)\n",
    "choice_B_reg = 100*func((X_A_reg, X_B_reg), *a_opt)"
   ]
  },
  {
   "cell_type": "code",
   "execution_count": null,
   "metadata": {},
   "outputs": [],
   "source": [
    "neuromodel.graphs.regression(X_A, X_B, 100*np.array(choice_B), X_A_reg, X_B_reg, choice_B_reg)"
   ]
  },
  {
   "cell_type": "markdown",
   "metadata": {},
   "source": [
    " "
   ]
  }
 ],
 "metadata": {
  "kernelspec": {
   "display_name": "Python 3",
   "language": "python",
   "name": "python3"
  },
  "language_info": {
   "codemirror_mode": {
    "name": "ipython",
    "version": 3
   },
   "file_extension": ".py",
   "mimetype": "text/x-python",
   "name": "python",
   "nbconvert_exporter": "python",
   "pygments_lexer": "ipython3",
   "version": "3.6.1"
  }
 },
 "nbformat": 4,
 "nbformat_minor": 2
}
